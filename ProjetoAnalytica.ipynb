{
 "cells": [
  {
   "cell_type": "markdown",
   "id": "41a7ce77",
   "metadata": {},
   "source": [
    "<h2>Queremos fazer uma análise de quais partidos,\n",
    "mais especificamente governos de UFs que foram mais permissivos \n",
    "em relação à degradação do meio ambiente.\n",
    "Para isso, precisamos de dados do meio ambiente e de eleições."
   ]
  },
  {
   "cell_type": "markdown",
   "id": "c36c8401",
   "metadata": {},
   "source": [
    "<h3>Instalando base dos dados"
   ]
  },
  {
   "cell_type": "code",
   "execution_count": 29,
   "id": "506864d5",
   "metadata": {
    "scrolled": true
   },
   "outputs": [
    {
     "name": "stdout",
     "output_type": "stream",
     "text": [
      "Requirement already satisfied: basedosdados in d:\\python\\lib\\site-packages (1.5.3)"
     ]
    },
    {
     "name": "stderr",
     "output_type": "stream",
     "text": [
      "WARNING: You are using pip version 20.2.3; however, version 21.1.2 is available.\n",
      "You should consider upgrading via the 'd:\\python\\python.exe -m pip install --upgrade pip' command.\n"
     ]
    },
    {
     "name": "stdout",
     "output_type": "stream",
     "text": [
      "\n",
      "Requirement already satisfied: pandas==1.2.4 in d:\\python\\lib\\site-packages (from basedosdados) (1.2.4)\n",
      "Requirement already satisfied: Jinja2==2.11.2 in d:\\python\\lib\\site-packages (from basedosdados) (2.11.2)\n",
      "Requirement already satisfied: pyaml==20.4.0 in d:\\python\\lib\\site-packages (from basedosdados) (20.4.0)\n",
      "Requirement already satisfied: ruamel.yaml==0.17.4 in d:\\python\\lib\\site-packages (from basedosdados) (0.17.4)\n",
      "Requirement already satisfied: click==7.1.2 in d:\\python\\lib\\site-packages (from basedosdados) (7.1.2)\n",
      "Requirement already satisfied: google-cloud-storage==1.31.2 in d:\\python\\lib\\site-packages (from basedosdados) (1.31.2)\n",
      "Requirement already satisfied: tqdm==4.50.2 in d:\\python\\lib\\site-packages (from basedosdados) (4.50.2)\n",
      "Requirement already satisfied: pandas-gbq==0.13.2 in d:\\python\\lib\\site-packages (from basedosdados) (0.13.2)\n",
      "Requirement already satisfied: google-cloud-bigquery==1.28.0 in d:\\python\\lib\\site-packages (from basedosdados) (1.28.0)\n",
      "Requirement already satisfied: tomlkit==0.7.0 in d:\\python\\lib\\site-packages (from basedosdados) (0.7.0)\n",
      "Requirement already satisfied: google-cloud-bigquery-storage==1.1.0 in d:\\python\\lib\\site-packages (from basedosdados) (1.1.0)\n",
      "Requirement already satisfied: pytz>=2017.3 in d:\\python\\lib\\site-packages (from pandas==1.2.4->basedosdados) (2021.1)\n",
      "Requirement already satisfied: python-dateutil>=2.7.3 in d:\\python\\lib\\site-packages (from pandas==1.2.4->basedosdados) (2.8.1)\n",
      "Requirement already satisfied: numpy>=1.16.5 in d:\\python\\lib\\site-packages (from pandas==1.2.4->basedosdados) (1.20.3)\n",
      "Requirement already satisfied: MarkupSafe>=0.23 in d:\\python\\lib\\site-packages (from Jinja2==2.11.2->basedosdados) (2.0.1)\n",
      "Requirement already satisfied: PyYAML in d:\\python\\lib\\site-packages (from pyaml==20.4.0->basedosdados) (5.4.1)\n",
      "Requirement already satisfied: ruamel.yaml.clib>=0.1.2; platform_python_implementation == \"CPython\" and python_version < \"3.10\" in d:\\python\\lib\\site-packages (from ruamel.yaml==0.17.4->basedosdados) (0.2.2)\n",
      "Requirement already satisfied: google-cloud-core<2.0dev,>=1.4.1 in d:\\python\\lib\\site-packages (from google-cloud-storage==1.31.2->basedosdados) (1.7.0)\n",
      "Requirement already satisfied: google-auth<2.0dev,>=1.11.0 in d:\\python\\lib\\site-packages (from google-cloud-storage==1.31.2->basedosdados) (1.31.0)\n",
      "Requirement already satisfied: google-resumable-media<2.0dev,>=1.0.0 in d:\\python\\lib\\site-packages (from google-cloud-storage==1.31.2->basedosdados) (1.3.0)\n",
      "Requirement already satisfied: requests<3.0.0dev,>=2.18.0 in d:\\python\\lib\\site-packages (from google-cloud-storage==1.31.2->basedosdados) (2.25.1)\n",
      "Requirement already satisfied: pydata-google-auth in d:\\python\\lib\\site-packages (from pandas-gbq==0.13.2->basedosdados) (1.2.0)\n",
      "Requirement already satisfied: google-auth-oauthlib in d:\\python\\lib\\site-packages (from pandas-gbq==0.13.2->basedosdados) (0.4.4)\n",
      "Requirement already satisfied: setuptools in d:\\python\\lib\\site-packages (from pandas-gbq==0.13.2->basedosdados) (49.2.1)\n",
      "Requirement already satisfied: google-api-core<2.0dev,>=1.21.0 in d:\\python\\lib\\site-packages (from google-cloud-bigquery==1.28.0->basedosdados) (1.30.0)\n",
      "Requirement already satisfied: six<2.0.0dev,>=1.13.0 in d:\\python\\lib\\site-packages (from google-cloud-bigquery==1.28.0->basedosdados) (1.16.0)\n",
      "Requirement already satisfied: pyasn1-modules>=0.2.1 in d:\\python\\lib\\site-packages (from google-auth<2.0dev,>=1.11.0->google-cloud-storage==1.31.2->basedosdados) (0.2.8)\n",
      "Requirement already satisfied: rsa<5,>=3.1.4; python_version >= \"3.6\" in d:\\python\\lib\\site-packages (from google-auth<2.0dev,>=1.11.0->google-cloud-storage==1.31.2->basedosdados) (4.7.2)\n",
      "Requirement already satisfied: cachetools<5.0,>=2.0.0 in d:\\python\\lib\\site-packages (from google-auth<2.0dev,>=1.11.0->google-cloud-storage==1.31.2->basedosdados) (4.2.2)\n",
      "Requirement already satisfied: google-crc32c<2.0dev,>=1.0; python_version >= \"3.5\" in d:\\python\\lib\\site-packages (from google-resumable-media<2.0dev,>=1.0.0->google-cloud-storage==1.31.2->basedosdados) (1.1.2)\n",
      "Requirement already satisfied: certifi>=2017.4.17 in d:\\python\\lib\\site-packages (from requests<3.0.0dev,>=2.18.0->google-cloud-storage==1.31.2->basedosdados) (2021.5.30)\n",
      "Requirement already satisfied: urllib3<1.27,>=1.21.1 in d:\\python\\lib\\site-packages (from requests<3.0.0dev,>=2.18.0->google-cloud-storage==1.31.2->basedosdados) (1.26.5)\n",
      "Requirement already satisfied: idna<3,>=2.5 in d:\\python\\lib\\site-packages (from requests<3.0.0dev,>=2.18.0->google-cloud-storage==1.31.2->basedosdados) (2.10)\n",
      "Requirement already satisfied: chardet<5,>=3.0.2 in d:\\python\\lib\\site-packages (from requests<3.0.0dev,>=2.18.0->google-cloud-storage==1.31.2->basedosdados) (4.0.0)\n",
      "Requirement already satisfied: requests-oauthlib>=0.7.0 in d:\\python\\lib\\site-packages (from google-auth-oauthlib->pandas-gbq==0.13.2->basedosdados) (1.3.0)\n",
      "Requirement already satisfied: packaging>=14.3 in d:\\python\\lib\\site-packages (from google-api-core<2.0dev,>=1.21.0->google-cloud-bigquery==1.28.0->basedosdados) (20.9)\n",
      "Requirement already satisfied: googleapis-common-protos<2.0dev,>=1.6.0 in d:\\python\\lib\\site-packages (from google-api-core<2.0dev,>=1.21.0->google-cloud-bigquery==1.28.0->basedosdados) (1.53.0)\n",
      "Requirement already satisfied: protobuf>=3.12.0 in d:\\python\\lib\\site-packages (from google-api-core<2.0dev,>=1.21.0->google-cloud-bigquery==1.28.0->basedosdados) (3.17.3)\n",
      "Requirement already satisfied: pyasn1<0.5.0,>=0.4.6 in d:\\python\\lib\\site-packages (from pyasn1-modules>=0.2.1->google-auth<2.0dev,>=1.11.0->google-cloud-storage==1.31.2->basedosdados) (0.4.8)\n",
      "Requirement already satisfied: cffi>=1.0.0 in d:\\python\\lib\\site-packages (from google-crc32c<2.0dev,>=1.0; python_version >= \"3.5\"->google-resumable-media<2.0dev,>=1.0.0->google-cloud-storage==1.31.2->basedosdados) (1.14.5)\n",
      "Requirement already satisfied: oauthlib>=3.0.0 in d:\\python\\lib\\site-packages (from requests-oauthlib>=0.7.0->google-auth-oauthlib->pandas-gbq==0.13.2->basedosdados) (3.1.1)\n",
      "Requirement already satisfied: pyparsing>=2.0.2 in d:\\python\\lib\\site-packages (from packaging>=14.3->google-api-core<2.0dev,>=1.21.0->google-cloud-bigquery==1.28.0->basedosdados) (2.4.7)\n",
      "Requirement already satisfied: pycparser in d:\\python\\lib\\site-packages (from cffi>=1.0.0->google-crc32c<2.0dev,>=1.0; python_version >= \"3.5\"->google-resumable-media<2.0dev,>=1.0.0->google-cloud-storage==1.31.2->basedosdados) (2.20)\n"
     ]
    }
   ],
   "source": [
    "!pip install basedosdados"
   ]
  },
  {
   "cell_type": "markdown",
   "id": "6f5959d9",
   "metadata": {},
   "source": [
    "Importando ferramentas"
   ]
  },
  {
   "cell_type": "code",
   "execution_count": 30,
   "id": "cdc933b0",
   "metadata": {},
   "outputs": [
    {
     "name": "stdout",
     "output_type": "stream",
     "text": [
      "Requirement already satisfied: plotly in d:\\python\\lib\\site-packages (4.14.3)\n",
      "Requirement already satisfied: six in d:\\python\\lib\\site-packages (from plotly) (1.16.0)\n",
      "Requirement already satisfied: retrying>=1.3.3 in d:\\python\\lib\\site-packages (from plotly) (1.3.3)\n"
     ]
    },
    {
     "name": "stderr",
     "output_type": "stream",
     "text": [
      "WARNING: You are using pip version 20.2.3; however, version 21.1.2 is available.\n",
      "You should consider upgrading via the 'd:\\python\\python.exe -m pip install --upgrade pip' command.\n"
     ]
    }
   ],
   "source": [
    "!pip install plotly"
   ]
  },
  {
   "cell_type": "code",
   "execution_count": 3,
   "id": "f591fc5e",
   "metadata": {},
   "outputs": [],
   "source": [
    "import basedosdados as bd\n",
    "import numpy as np\n",
    "import pandas as pd\n",
    "import plotly\n",
    "import plotly.express as px\n",
    "import plotly.offline as py\n",
    "import plotly.graph_objs as go"
   ]
  },
  {
   "cell_type": "markdown",
   "id": "222353e8",
   "metadata": {},
   "source": [
    "<h3>Lendo tabela de informação de candidatos eleitos"
   ]
  },
  {
   "cell_type": "markdown",
   "id": "9637c13c",
   "metadata": {},
   "source": [
    "<h4> Para pegar as informações relevantes, selecionamos só os governantes de UFs que têm dados sobre sua cobertura de mata amazônia na basedosdados \n",
    "     <h4>A consulta em si está na pasta de consultas SQL com o nome 'GovernoEstado.sql'\n",
    "         <h4> Aqui importamos o csv gerado pela consulta descrita acima"
   ]
  },
  {
   "cell_type": "code",
   "execution_count": 4,
   "id": "d97129c3",
   "metadata": {},
   "outputs": [],
   "source": [
    "csvGov= pd.read_csv('ConsultasEmCsv/governosestados.csv')"
   ]
  },
  {
   "cell_type": "code",
   "execution_count": 15,
   "id": "b0fdb102",
   "metadata": {},
   "outputs": [
    {
     "data": {
      "text/html": [
       "<div>\n",
       "<style scoped>\n",
       "    .dataframe tbody tr th:only-of-type {\n",
       "        vertical-align: middle;\n",
       "    }\n",
       "\n",
       "    .dataframe tbody tr th {\n",
       "        vertical-align: top;\n",
       "    }\n",
       "\n",
       "    .dataframe thead th {\n",
       "        text-align: right;\n",
       "    }\n",
       "</style>\n",
       "<table border=\"1\" class=\"dataframe\">\n",
       "  <thead>\n",
       "    <tr style=\"text-align: right;\">\n",
       "      <th></th>\n",
       "      <th>anos</th>\n",
       "      <th>sigla_uf</th>\n",
       "      <th>sigla_partido</th>\n",
       "    </tr>\n",
       "  </thead>\n",
       "  <tbody>\n",
       "    <tr>\n",
       "      <th>0</th>\n",
       "      <td>1994</td>\n",
       "      <td>AC</td>\n",
       "      <td>PPR</td>\n",
       "    </tr>\n",
       "    <tr>\n",
       "      <th>1</th>\n",
       "      <td>1998</td>\n",
       "      <td>AC</td>\n",
       "      <td>PT</td>\n",
       "    </tr>\n",
       "    <tr>\n",
       "      <th>2</th>\n",
       "      <td>2002</td>\n",
       "      <td>AC</td>\n",
       "      <td>PT</td>\n",
       "    </tr>\n",
       "    <tr>\n",
       "      <th>3</th>\n",
       "      <td>2006</td>\n",
       "      <td>AC</td>\n",
       "      <td>PT</td>\n",
       "    </tr>\n",
       "    <tr>\n",
       "      <th>4</th>\n",
       "      <td>2010</td>\n",
       "      <td>AC</td>\n",
       "      <td>PT</td>\n",
       "    </tr>\n",
       "    <tr>\n",
       "      <th>5</th>\n",
       "      <td>2014</td>\n",
       "      <td>AC</td>\n",
       "      <td>PT</td>\n",
       "    </tr>\n",
       "    <tr>\n",
       "      <th>6</th>\n",
       "      <td>2018</td>\n",
       "      <td>AC</td>\n",
       "      <td>PP</td>\n",
       "    </tr>\n",
       "    <tr>\n",
       "      <th>7</th>\n",
       "      <td>1994</td>\n",
       "      <td>AM</td>\n",
       "      <td>PPR</td>\n",
       "    </tr>\n",
       "    <tr>\n",
       "      <th>8</th>\n",
       "      <td>1998</td>\n",
       "      <td>AM</td>\n",
       "      <td>PFL</td>\n",
       "    </tr>\n",
       "    <tr>\n",
       "      <th>9</th>\n",
       "      <td>2002</td>\n",
       "      <td>AM</td>\n",
       "      <td>PPS</td>\n",
       "    </tr>\n",
       "    <tr>\n",
       "      <th>10</th>\n",
       "      <td>2006</td>\n",
       "      <td>AM</td>\n",
       "      <td>PMDB</td>\n",
       "    </tr>\n",
       "    <tr>\n",
       "      <th>11</th>\n",
       "      <td>2010</td>\n",
       "      <td>AM</td>\n",
       "      <td>PMN</td>\n",
       "    </tr>\n",
       "    <tr>\n",
       "      <th>12</th>\n",
       "      <td>2014</td>\n",
       "      <td>AM</td>\n",
       "      <td>PROS</td>\n",
       "    </tr>\n",
       "    <tr>\n",
       "      <th>13</th>\n",
       "      <td>2018</td>\n",
       "      <td>AM</td>\n",
       "      <td>PSC</td>\n",
       "    </tr>\n",
       "    <tr>\n",
       "      <th>14</th>\n",
       "      <td>1994</td>\n",
       "      <td>AP</td>\n",
       "      <td>PSB</td>\n",
       "    </tr>\n",
       "  </tbody>\n",
       "</table>\n",
       "</div>"
      ],
      "text/plain": [
       "    anos sigla_uf sigla_partido\n",
       "0   1994       AC           PPR\n",
       "1   1998       AC            PT\n",
       "2   2002       AC            PT\n",
       "3   2006       AC            PT\n",
       "4   2010       AC            PT\n",
       "5   2014       AC            PT\n",
       "6   2018       AC            PP\n",
       "7   1994       AM           PPR\n",
       "8   1998       AM           PFL\n",
       "9   2002       AM           PPS\n",
       "10  2006       AM          PMDB\n",
       "11  2010       AM           PMN\n",
       "12  2014       AM          PROS\n",
       "13  2018       AM           PSC\n",
       "14  1994       AP           PSB"
      ]
     },
     "execution_count": 15,
     "metadata": {},
     "output_type": "execute_result"
    }
   ],
   "source": [
    "csvGov.head(15)"
   ]
  },
  {
   "cell_type": "markdown",
   "id": "c8861a68",
   "metadata": {},
   "source": [
    "<h3>Lendo tabela de informação de cobertura do bioma amazônia por estado e ano"
   ]
  },
  {
   "cell_type": "markdown",
   "id": "370908e5",
   "metadata": {},
   "source": [
    "<h4> Pegamos as informações da área do bioma Amazônia relacionada ao estado e ao ano em que foram registradas\n",
    "     <h4>A consulta em si está na pasta de consultas SQL com o nome 'AreaTotAmazonia.sql'\n",
    "         <h4> Aqui importamos o csv gerado pela consulta descrita acima"
   ]
  },
  {
   "cell_type": "code",
   "execution_count": 8,
   "id": "ea10ae7c",
   "metadata": {},
   "outputs": [],
   "source": [
    "csvCob= pd.read_csv('ConsultasEmCsv/coberturaanoestado.csv')"
   ]
  },
  {
   "cell_type": "code",
   "execution_count": 97,
   "id": "08c8fdd7",
   "metadata": {},
   "outputs": [
    {
     "data": {
      "text/html": [
       "<div>\n",
       "<style scoped>\n",
       "    .dataframe tbody tr th:only-of-type {\n",
       "        vertical-align: middle;\n",
       "    }\n",
       "\n",
       "    .dataframe tbody tr th {\n",
       "        vertical-align: top;\n",
       "    }\n",
       "\n",
       "    .dataframe thead th {\n",
       "        text-align: right;\n",
       "    }\n",
       "</style>\n",
       "<table border=\"1\" class=\"dataframe\">\n",
       "  <thead>\n",
       "    <tr style=\"text-align: right;\">\n",
       "      <th></th>\n",
       "      <th>ano</th>\n",
       "      <th>estado_abrev</th>\n",
       "      <th>areatotal</th>\n",
       "    </tr>\n",
       "  </thead>\n",
       "  <tbody>\n",
       "    <tr>\n",
       "      <th>0</th>\n",
       "      <td>1985</td>\n",
       "      <td>AC</td>\n",
       "      <td>158629.949213</td>\n",
       "    </tr>\n",
       "    <tr>\n",
       "      <th>1</th>\n",
       "      <td>1986</td>\n",
       "      <td>AC</td>\n",
       "      <td>158481.673831</td>\n",
       "    </tr>\n",
       "    <tr>\n",
       "      <th>2</th>\n",
       "      <td>1987</td>\n",
       "      <td>AC</td>\n",
       "      <td>158058.639895</td>\n",
       "    </tr>\n",
       "    <tr>\n",
       "      <th>3</th>\n",
       "      <td>1988</td>\n",
       "      <td>AC</td>\n",
       "      <td>157346.219951</td>\n",
       "    </tr>\n",
       "    <tr>\n",
       "      <th>4</th>\n",
       "      <td>1989</td>\n",
       "      <td>AC</td>\n",
       "      <td>156778.336434</td>\n",
       "    </tr>\n",
       "    <tr>\n",
       "      <th>...</th>\n",
       "      <td>...</td>\n",
       "      <td>...</td>\n",
       "      <td>...</td>\n",
       "    </tr>\n",
       "    <tr>\n",
       "      <th>310</th>\n",
       "      <td>2015</td>\n",
       "      <td>TO</td>\n",
       "      <td>6951.741695</td>\n",
       "    </tr>\n",
       "    <tr>\n",
       "      <th>311</th>\n",
       "      <td>2016</td>\n",
       "      <td>TO</td>\n",
       "      <td>6592.706262</td>\n",
       "    </tr>\n",
       "    <tr>\n",
       "      <th>312</th>\n",
       "      <td>2017</td>\n",
       "      <td>TO</td>\n",
       "      <td>6853.481358</td>\n",
       "    </tr>\n",
       "    <tr>\n",
       "      <th>313</th>\n",
       "      <td>2018</td>\n",
       "      <td>TO</td>\n",
       "      <td>6645.391944</td>\n",
       "    </tr>\n",
       "    <tr>\n",
       "      <th>314</th>\n",
       "      <td>2019</td>\n",
       "      <td>TO</td>\n",
       "      <td>6596.048506</td>\n",
       "    </tr>\n",
       "  </tbody>\n",
       "</table>\n",
       "<p>315 rows × 3 columns</p>\n",
       "</div>"
      ],
      "text/plain": [
       "      ano estado_abrev      areatotal\n",
       "0    1985           AC  158629.949213\n",
       "1    1986           AC  158481.673831\n",
       "2    1987           AC  158058.639895\n",
       "3    1988           AC  157346.219951\n",
       "4    1989           AC  156778.336434\n",
       "..    ...          ...            ...\n",
       "310  2015           TO    6951.741695\n",
       "311  2016           TO    6592.706262\n",
       "312  2017           TO    6853.481358\n",
       "313  2018           TO    6645.391944\n",
       "314  2019           TO    6596.048506\n",
       "\n",
       "[315 rows x 3 columns]"
      ]
     },
     "execution_count": 97,
     "metadata": {},
     "output_type": "execute_result"
    }
   ],
   "source": [
    "csvCob"
   ]
  },
  {
   "cell_type": "markdown",
   "id": "a5b736b5",
   "metadata": {},
   "source": [
    "<h1> Queremos saber quais partidos foram mais permissivos em relação a perda do bioma da amazônia"
   ]
  },
  {
   "cell_type": "markdown",
   "id": "d9fa19d2",
   "metadata": {},
   "source": [
    "<h3> Relacionando as duas tabelas para obter o dataset o qual utilizaremos para operações e análises no pandas, com o objetivo de responder a pergunta acima:\n",
    "   "
   ]
  },
  {
   "cell_type": "markdown",
   "id": "c9e4b9f5",
   "metadata": {},
   "source": [
    "<h4> Com as duas tabelas acima, fazemos um inner join para relacionar as mudanças dos biomas com o partido governante\n",
    "     <h4>A consulta que relaciona as tabelas está na pasta de consultas SQL com o nome 'JoinGovArea.sql'\n",
    "         <h4> Abaixo importamos o csv gerado pela consulta descrita acima"
   ]
  },
  {
   "cell_type": "code",
   "execution_count": 98,
   "id": "db5087f0",
   "metadata": {},
   "outputs": [],
   "source": [
    "lig = pd.read_csv('ConsultasEmCsv/coberturajoinpartidos.csv')"
   ]
  },
  {
   "cell_type": "code",
   "execution_count": 99,
   "id": "74ca6c78",
   "metadata": {},
   "outputs": [
    {
     "data": {
      "text/html": [
       "<div>\n",
       "<style scoped>\n",
       "    .dataframe tbody tr th:only-of-type {\n",
       "        vertical-align: middle;\n",
       "    }\n",
       "\n",
       "    .dataframe tbody tr th {\n",
       "        vertical-align: top;\n",
       "    }\n",
       "\n",
       "    .dataframe thead th {\n",
       "        text-align: right;\n",
       "    }\n",
       "</style>\n",
       "<table border=\"1\" class=\"dataframe\">\n",
       "  <thead>\n",
       "    <tr style=\"text-align: right;\">\n",
       "      <th></th>\n",
       "      <th>ano</th>\n",
       "      <th>sigla_uf</th>\n",
       "      <th>areatotal</th>\n",
       "      <th>sigla_partido</th>\n",
       "    </tr>\n",
       "  </thead>\n",
       "  <tbody>\n",
       "    <tr>\n",
       "      <th>0</th>\n",
       "      <td>1994</td>\n",
       "      <td>AC</td>\n",
       "      <td>1.547424e+05</td>\n",
       "      <td>PPR</td>\n",
       "    </tr>\n",
       "    <tr>\n",
       "      <th>1</th>\n",
       "      <td>1998</td>\n",
       "      <td>AC</td>\n",
       "      <td>1.522341e+05</td>\n",
       "      <td>PT</td>\n",
       "    </tr>\n",
       "    <tr>\n",
       "      <th>2</th>\n",
       "      <td>2002</td>\n",
       "      <td>AC</td>\n",
       "      <td>1.480173e+05</td>\n",
       "      <td>PT</td>\n",
       "    </tr>\n",
       "    <tr>\n",
       "      <th>3</th>\n",
       "      <td>2006</td>\n",
       "      <td>AC</td>\n",
       "      <td>1.477197e+05</td>\n",
       "      <td>PT</td>\n",
       "    </tr>\n",
       "    <tr>\n",
       "      <th>4</th>\n",
       "      <td>2010</td>\n",
       "      <td>AC</td>\n",
       "      <td>1.465175e+05</td>\n",
       "      <td>PT</td>\n",
       "    </tr>\n",
       "    <tr>\n",
       "      <th>5</th>\n",
       "      <td>2014</td>\n",
       "      <td>AC</td>\n",
       "      <td>1.456493e+05</td>\n",
       "      <td>PT</td>\n",
       "    </tr>\n",
       "    <tr>\n",
       "      <th>6</th>\n",
       "      <td>2018</td>\n",
       "      <td>AC</td>\n",
       "      <td>1.441178e+05</td>\n",
       "      <td>PP</td>\n",
       "    </tr>\n",
       "    <tr>\n",
       "      <th>7</th>\n",
       "      <td>1994</td>\n",
       "      <td>AM</td>\n",
       "      <td>1.505151e+06</td>\n",
       "      <td>PPR</td>\n",
       "    </tr>\n",
       "    <tr>\n",
       "      <th>8</th>\n",
       "      <td>1998</td>\n",
       "      <td>AM</td>\n",
       "      <td>1.503607e+06</td>\n",
       "      <td>PFL</td>\n",
       "    </tr>\n",
       "    <tr>\n",
       "      <th>9</th>\n",
       "      <td>2002</td>\n",
       "      <td>AM</td>\n",
       "      <td>1.503723e+06</td>\n",
       "      <td>PPS</td>\n",
       "    </tr>\n",
       "    <tr>\n",
       "      <th>10</th>\n",
       "      <td>2006</td>\n",
       "      <td>AM</td>\n",
       "      <td>1.497690e+06</td>\n",
       "      <td>PMDB</td>\n",
       "    </tr>\n",
       "    <tr>\n",
       "      <th>11</th>\n",
       "      <td>2010</td>\n",
       "      <td>AM</td>\n",
       "      <td>1.496009e+06</td>\n",
       "      <td>PMN</td>\n",
       "    </tr>\n",
       "    <tr>\n",
       "      <th>12</th>\n",
       "      <td>2014</td>\n",
       "      <td>AM</td>\n",
       "      <td>1.492836e+06</td>\n",
       "      <td>PROS</td>\n",
       "    </tr>\n",
       "    <tr>\n",
       "      <th>13</th>\n",
       "      <td>2018</td>\n",
       "      <td>AM</td>\n",
       "      <td>1.488467e+06</td>\n",
       "      <td>PSC</td>\n",
       "    </tr>\n",
       "    <tr>\n",
       "      <th>14</th>\n",
       "      <td>1994</td>\n",
       "      <td>AP</td>\n",
       "      <td>1.368060e+05</td>\n",
       "      <td>PSB</td>\n",
       "    </tr>\n",
       "  </tbody>\n",
       "</table>\n",
       "</div>"
      ],
      "text/plain": [
       "     ano sigla_uf     areatotal sigla_partido\n",
       "0   1994       AC  1.547424e+05           PPR\n",
       "1   1998       AC  1.522341e+05            PT\n",
       "2   2002       AC  1.480173e+05            PT\n",
       "3   2006       AC  1.477197e+05            PT\n",
       "4   2010       AC  1.465175e+05            PT\n",
       "5   2014       AC  1.456493e+05            PT\n",
       "6   2018       AC  1.441178e+05            PP\n",
       "7   1994       AM  1.505151e+06           PPR\n",
       "8   1998       AM  1.503607e+06           PFL\n",
       "9   2002       AM  1.503723e+06           PPS\n",
       "10  2006       AM  1.497690e+06          PMDB\n",
       "11  2010       AM  1.496009e+06           PMN\n",
       "12  2014       AM  1.492836e+06          PROS\n",
       "13  2018       AM  1.488467e+06           PSC\n",
       "14  1994       AP  1.368060e+05           PSB"
      ]
     },
     "execution_count": 99,
     "metadata": {},
     "output_type": "execute_result"
    }
   ],
   "source": [
    "lig.head(15)"
   ]
  },
  {
   "cell_type": "markdown",
   "id": "13d2b2ee",
   "metadata": {},
   "source": [
    "<h3> Adicionando coluna na qual queremos armazenar a porcentagem de cobertura de amazônia perdida por mandato de governo"
   ]
  },
  {
   "cell_type": "code",
   "execution_count": 100,
   "id": "f6eefa11",
   "metadata": {},
   "outputs": [
    {
     "data": {
      "text/html": [
       "<div>\n",
       "<style scoped>\n",
       "    .dataframe tbody tr th:only-of-type {\n",
       "        vertical-align: middle;\n",
       "    }\n",
       "\n",
       "    .dataframe tbody tr th {\n",
       "        vertical-align: top;\n",
       "    }\n",
       "\n",
       "    .dataframe thead th {\n",
       "        text-align: right;\n",
       "    }\n",
       "</style>\n",
       "<table border=\"1\" class=\"dataframe\">\n",
       "  <thead>\n",
       "    <tr style=\"text-align: right;\">\n",
       "      <th></th>\n",
       "      <th>ano</th>\n",
       "      <th>sigla_uf</th>\n",
       "      <th>areatotal</th>\n",
       "      <th>sigla_partido</th>\n",
       "      <th>delta</th>\n",
       "    </tr>\n",
       "  </thead>\n",
       "  <tbody>\n",
       "    <tr>\n",
       "      <th>0</th>\n",
       "      <td>1994</td>\n",
       "      <td>AC</td>\n",
       "      <td>1.547424e+05</td>\n",
       "      <td>PPR</td>\n",
       "      <td>None</td>\n",
       "    </tr>\n",
       "    <tr>\n",
       "      <th>1</th>\n",
       "      <td>1998</td>\n",
       "      <td>AC</td>\n",
       "      <td>1.522341e+05</td>\n",
       "      <td>PT</td>\n",
       "      <td>None</td>\n",
       "    </tr>\n",
       "    <tr>\n",
       "      <th>2</th>\n",
       "      <td>2002</td>\n",
       "      <td>AC</td>\n",
       "      <td>1.480173e+05</td>\n",
       "      <td>PT</td>\n",
       "      <td>None</td>\n",
       "    </tr>\n",
       "    <tr>\n",
       "      <th>3</th>\n",
       "      <td>2006</td>\n",
       "      <td>AC</td>\n",
       "      <td>1.477197e+05</td>\n",
       "      <td>PT</td>\n",
       "      <td>None</td>\n",
       "    </tr>\n",
       "    <tr>\n",
       "      <th>4</th>\n",
       "      <td>2010</td>\n",
       "      <td>AC</td>\n",
       "      <td>1.465175e+05</td>\n",
       "      <td>PT</td>\n",
       "      <td>None</td>\n",
       "    </tr>\n",
       "    <tr>\n",
       "      <th>5</th>\n",
       "      <td>2014</td>\n",
       "      <td>AC</td>\n",
       "      <td>1.456493e+05</td>\n",
       "      <td>PT</td>\n",
       "      <td>None</td>\n",
       "    </tr>\n",
       "    <tr>\n",
       "      <th>6</th>\n",
       "      <td>2018</td>\n",
       "      <td>AC</td>\n",
       "      <td>1.441178e+05</td>\n",
       "      <td>PP</td>\n",
       "      <td>None</td>\n",
       "    </tr>\n",
       "    <tr>\n",
       "      <th>7</th>\n",
       "      <td>1994</td>\n",
       "      <td>AM</td>\n",
       "      <td>1.505151e+06</td>\n",
       "      <td>PPR</td>\n",
       "      <td>None</td>\n",
       "    </tr>\n",
       "    <tr>\n",
       "      <th>8</th>\n",
       "      <td>1998</td>\n",
       "      <td>AM</td>\n",
       "      <td>1.503607e+06</td>\n",
       "      <td>PFL</td>\n",
       "      <td>None</td>\n",
       "    </tr>\n",
       "    <tr>\n",
       "      <th>9</th>\n",
       "      <td>2002</td>\n",
       "      <td>AM</td>\n",
       "      <td>1.503723e+06</td>\n",
       "      <td>PPS</td>\n",
       "      <td>None</td>\n",
       "    </tr>\n",
       "    <tr>\n",
       "      <th>10</th>\n",
       "      <td>2006</td>\n",
       "      <td>AM</td>\n",
       "      <td>1.497690e+06</td>\n",
       "      <td>PMDB</td>\n",
       "      <td>None</td>\n",
       "    </tr>\n",
       "    <tr>\n",
       "      <th>11</th>\n",
       "      <td>2010</td>\n",
       "      <td>AM</td>\n",
       "      <td>1.496009e+06</td>\n",
       "      <td>PMN</td>\n",
       "      <td>None</td>\n",
       "    </tr>\n",
       "    <tr>\n",
       "      <th>12</th>\n",
       "      <td>2014</td>\n",
       "      <td>AM</td>\n",
       "      <td>1.492836e+06</td>\n",
       "      <td>PROS</td>\n",
       "      <td>None</td>\n",
       "    </tr>\n",
       "    <tr>\n",
       "      <th>13</th>\n",
       "      <td>2018</td>\n",
       "      <td>AM</td>\n",
       "      <td>1.488467e+06</td>\n",
       "      <td>PSC</td>\n",
       "      <td>None</td>\n",
       "    </tr>\n",
       "    <tr>\n",
       "      <th>14</th>\n",
       "      <td>1994</td>\n",
       "      <td>AP</td>\n",
       "      <td>1.368060e+05</td>\n",
       "      <td>PSB</td>\n",
       "      <td>None</td>\n",
       "    </tr>\n",
       "  </tbody>\n",
       "</table>\n",
       "</div>"
      ],
      "text/plain": [
       "     ano sigla_uf     areatotal sigla_partido delta\n",
       "0   1994       AC  1.547424e+05           PPR  None\n",
       "1   1998       AC  1.522341e+05            PT  None\n",
       "2   2002       AC  1.480173e+05            PT  None\n",
       "3   2006       AC  1.477197e+05            PT  None\n",
       "4   2010       AC  1.465175e+05            PT  None\n",
       "5   2014       AC  1.456493e+05            PT  None\n",
       "6   2018       AC  1.441178e+05            PP  None\n",
       "7   1994       AM  1.505151e+06           PPR  None\n",
       "8   1998       AM  1.503607e+06           PFL  None\n",
       "9   2002       AM  1.503723e+06           PPS  None\n",
       "10  2006       AM  1.497690e+06          PMDB  None\n",
       "11  2010       AM  1.496009e+06           PMN  None\n",
       "12  2014       AM  1.492836e+06          PROS  None\n",
       "13  2018       AM  1.488467e+06           PSC  None\n",
       "14  1994       AP  1.368060e+05           PSB  None"
      ]
     },
     "execution_count": 100,
     "metadata": {},
     "output_type": "execute_result"
    }
   ],
   "source": [
    "#Usando o pandas, adicionando uma coluna inicialmente vazia\n",
    "lig[\"delta\"] = None\n",
    "lig.head(15)"
   ]
  },
  {
   "cell_type": "markdown",
   "id": "0a5cb28c",
   "metadata": {},
   "source": [
    "<h3>Função para armazenar a perda de cobertura do bioma por mandato\n",
    "    <h4> Nessa função, percorremos as linhas do database e pegamos a informação da área antes e após o mandato, para armazenar a porcentagem de quanto mudou na coluna delta"
   ]
  },
  {
   "cell_type": "code",
   "execution_count": 101,
   "id": "aacf9a21",
   "metadata": {},
   "outputs": [],
   "source": [
    "lig[\"delta\"] = None\n",
    "for index in lig.index:\n",
    "    line = lig.iloc[index]\n",
    "    ano = line.ano\n",
    "    est = line.sigla_uf\n",
    "    areaantiga = line.areatotal\n",
    "    areaatual = lig[(lig.sigla_uf==est) & (lig.ano == ano + 4)].areatotal\n",
    "    if len(areaatual) == 0:\n",
    "        areaatual= None\n",
    "    else:\n",
    "        areaatual= areaatual.iloc[0]\n",
    "        lig.loc[index,'delta'] = ((areaatual - areaantiga)/ areaantiga)*100\n",
    "\n",
    "#variável 'deltadb' agora armazena os deltas de áreas\n",
    "deltadb = lig\n",
    "#removemos linhas em que nao temos informações do desmatamento\n",
    "deltadb = deltadb.dropna()"
   ]
  },
  {
   "cell_type": "code",
   "execution_count": 102,
   "id": "bc16e9ad",
   "metadata": {
    "scrolled": true
   },
   "outputs": [
    {
     "data": {
      "text/html": [
       "<div>\n",
       "<style scoped>\n",
       "    .dataframe tbody tr th:only-of-type {\n",
       "        vertical-align: middle;\n",
       "    }\n",
       "\n",
       "    .dataframe tbody tr th {\n",
       "        vertical-align: top;\n",
       "    }\n",
       "\n",
       "    .dataframe thead th {\n",
       "        text-align: right;\n",
       "    }\n",
       "</style>\n",
       "<table border=\"1\" class=\"dataframe\">\n",
       "  <thead>\n",
       "    <tr style=\"text-align: right;\">\n",
       "      <th></th>\n",
       "      <th>ano</th>\n",
       "      <th>sigla_uf</th>\n",
       "      <th>areatotal</th>\n",
       "      <th>sigla_partido</th>\n",
       "      <th>delta</th>\n",
       "    </tr>\n",
       "  </thead>\n",
       "  <tbody>\n",
       "    <tr>\n",
       "      <th>0</th>\n",
       "      <td>1994</td>\n",
       "      <td>AC</td>\n",
       "      <td>1.547424e+05</td>\n",
       "      <td>PPR</td>\n",
       "      <td>-1.62098</td>\n",
       "    </tr>\n",
       "    <tr>\n",
       "      <th>1</th>\n",
       "      <td>1998</td>\n",
       "      <td>AC</td>\n",
       "      <td>1.522341e+05</td>\n",
       "      <td>PT</td>\n",
       "      <td>-2.769942</td>\n",
       "    </tr>\n",
       "    <tr>\n",
       "      <th>2</th>\n",
       "      <td>2002</td>\n",
       "      <td>AC</td>\n",
       "      <td>1.480173e+05</td>\n",
       "      <td>PT</td>\n",
       "      <td>-0.201035</td>\n",
       "    </tr>\n",
       "    <tr>\n",
       "      <th>3</th>\n",
       "      <td>2006</td>\n",
       "      <td>AC</td>\n",
       "      <td>1.477197e+05</td>\n",
       "      <td>PT</td>\n",
       "      <td>-0.813853</td>\n",
       "    </tr>\n",
       "    <tr>\n",
       "      <th>4</th>\n",
       "      <td>2010</td>\n",
       "      <td>AC</td>\n",
       "      <td>1.465175e+05</td>\n",
       "      <td>PT</td>\n",
       "      <td>-0.592542</td>\n",
       "    </tr>\n",
       "    <tr>\n",
       "      <th>5</th>\n",
       "      <td>2014</td>\n",
       "      <td>AC</td>\n",
       "      <td>1.456493e+05</td>\n",
       "      <td>PT</td>\n",
       "      <td>-1.051536</td>\n",
       "    </tr>\n",
       "    <tr>\n",
       "      <th>7</th>\n",
       "      <td>1994</td>\n",
       "      <td>AM</td>\n",
       "      <td>1.505151e+06</td>\n",
       "      <td>PPR</td>\n",
       "      <td>-0.102529</td>\n",
       "    </tr>\n",
       "    <tr>\n",
       "      <th>8</th>\n",
       "      <td>1998</td>\n",
       "      <td>AM</td>\n",
       "      <td>1.503607e+06</td>\n",
       "      <td>PFL</td>\n",
       "      <td>0.007702</td>\n",
       "    </tr>\n",
       "    <tr>\n",
       "      <th>9</th>\n",
       "      <td>2002</td>\n",
       "      <td>AM</td>\n",
       "      <td>1.503723e+06</td>\n",
       "      <td>PPS</td>\n",
       "      <td>-0.401206</td>\n",
       "    </tr>\n",
       "    <tr>\n",
       "      <th>10</th>\n",
       "      <td>2006</td>\n",
       "      <td>AM</td>\n",
       "      <td>1.497690e+06</td>\n",
       "      <td>PMDB</td>\n",
       "      <td>-0.112286</td>\n",
       "    </tr>\n",
       "    <tr>\n",
       "      <th>11</th>\n",
       "      <td>2010</td>\n",
       "      <td>AM</td>\n",
       "      <td>1.496009e+06</td>\n",
       "      <td>PMN</td>\n",
       "      <td>-0.212082</td>\n",
       "    </tr>\n",
       "    <tr>\n",
       "      <th>12</th>\n",
       "      <td>2014</td>\n",
       "      <td>AM</td>\n",
       "      <td>1.492836e+06</td>\n",
       "      <td>PROS</td>\n",
       "      <td>-0.292676</td>\n",
       "    </tr>\n",
       "    <tr>\n",
       "      <th>14</th>\n",
       "      <td>1994</td>\n",
       "      <td>AP</td>\n",
       "      <td>1.368060e+05</td>\n",
       "      <td>PSB</td>\n",
       "      <td>-0.022338</td>\n",
       "    </tr>\n",
       "    <tr>\n",
       "      <th>15</th>\n",
       "      <td>1998</td>\n",
       "      <td>AP</td>\n",
       "      <td>1.367754e+05</td>\n",
       "      <td>PSB</td>\n",
       "      <td>0.156079</td>\n",
       "    </tr>\n",
       "    <tr>\n",
       "      <th>16</th>\n",
       "      <td>2002</td>\n",
       "      <td>AP</td>\n",
       "      <td>1.369889e+05</td>\n",
       "      <td>PDT</td>\n",
       "      <td>0.172612</td>\n",
       "    </tr>\n",
       "    <tr>\n",
       "      <th>17</th>\n",
       "      <td>2006</td>\n",
       "      <td>AP</td>\n",
       "      <td>1.372254e+05</td>\n",
       "      <td>PDT</td>\n",
       "      <td>-0.216583</td>\n",
       "    </tr>\n",
       "    <tr>\n",
       "      <th>18</th>\n",
       "      <td>2010</td>\n",
       "      <td>AP</td>\n",
       "      <td>1.369282e+05</td>\n",
       "      <td>PSB</td>\n",
       "      <td>-0.260217</td>\n",
       "    </tr>\n",
       "    <tr>\n",
       "      <th>19</th>\n",
       "      <td>2014</td>\n",
       "      <td>AP</td>\n",
       "      <td>1.365718e+05</td>\n",
       "      <td>PDT</td>\n",
       "      <td>-0.216725</td>\n",
       "    </tr>\n",
       "    <tr>\n",
       "      <th>21</th>\n",
       "      <td>1994</td>\n",
       "      <td>MA</td>\n",
       "      <td>7.548116e+04</td>\n",
       "      <td>PFL</td>\n",
       "      <td>-5.797984</td>\n",
       "    </tr>\n",
       "    <tr>\n",
       "      <th>22</th>\n",
       "      <td>1998</td>\n",
       "      <td>MA</td>\n",
       "      <td>7.110477e+04</td>\n",
       "      <td>PFL</td>\n",
       "      <td>-8.05166</td>\n",
       "    </tr>\n",
       "    <tr>\n",
       "      <th>23</th>\n",
       "      <td>2002</td>\n",
       "      <td>MA</td>\n",
       "      <td>6.537966e+04</td>\n",
       "      <td>PFL</td>\n",
       "      <td>-7.14347</td>\n",
       "    </tr>\n",
       "    <tr>\n",
       "      <th>24</th>\n",
       "      <td>2006</td>\n",
       "      <td>MA</td>\n",
       "      <td>6.070928e+04</td>\n",
       "      <td>PDT</td>\n",
       "      <td>-4.124277</td>\n",
       "    </tr>\n",
       "    <tr>\n",
       "      <th>25</th>\n",
       "      <td>2010</td>\n",
       "      <td>MA</td>\n",
       "      <td>5.820546e+04</td>\n",
       "      <td>PMDB</td>\n",
       "      <td>-3.161876</td>\n",
       "    </tr>\n",
       "    <tr>\n",
       "      <th>26</th>\n",
       "      <td>2014</td>\n",
       "      <td>MA</td>\n",
       "      <td>5.636508e+04</td>\n",
       "      <td>PC do B</td>\n",
       "      <td>-2.601661</td>\n",
       "    </tr>\n",
       "    <tr>\n",
       "      <th>28</th>\n",
       "      <td>1998</td>\n",
       "      <td>MT</td>\n",
       "      <td>4.098620e+05</td>\n",
       "      <td>PSDB</td>\n",
       "      <td>-6.03587</td>\n",
       "    </tr>\n",
       "    <tr>\n",
       "      <th>29</th>\n",
       "      <td>2002</td>\n",
       "      <td>MT</td>\n",
       "      <td>3.851232e+05</td>\n",
       "      <td>PPS</td>\n",
       "      <td>-8.91838</td>\n",
       "    </tr>\n",
       "    <tr>\n",
       "      <th>30</th>\n",
       "      <td>2006</td>\n",
       "      <td>MT</td>\n",
       "      <td>3.507765e+05</td>\n",
       "      <td>PPS</td>\n",
       "      <td>-2.140185</td>\n",
       "    </tr>\n",
       "    <tr>\n",
       "      <th>31</th>\n",
       "      <td>2010</td>\n",
       "      <td>MT</td>\n",
       "      <td>3.432692e+05</td>\n",
       "      <td>PMDB</td>\n",
       "      <td>0.258326</td>\n",
       "    </tr>\n",
       "    <tr>\n",
       "      <th>33</th>\n",
       "      <td>1998</td>\n",
       "      <td>PA</td>\n",
       "      <td>1.079994e+06</td>\n",
       "      <td>PSDB</td>\n",
       "      <td>-2.267143</td>\n",
       "    </tr>\n",
       "    <tr>\n",
       "      <th>34</th>\n",
       "      <td>2002</td>\n",
       "      <td>PA</td>\n",
       "      <td>1.055509e+06</td>\n",
       "      <td>PSDB</td>\n",
       "      <td>-3.252008</td>\n",
       "    </tr>\n",
       "    <tr>\n",
       "      <th>35</th>\n",
       "      <td>2006</td>\n",
       "      <td>PA</td>\n",
       "      <td>1.021184e+06</td>\n",
       "      <td>PT</td>\n",
       "      <td>-1.509482</td>\n",
       "    </tr>\n",
       "    <tr>\n",
       "      <th>36</th>\n",
       "      <td>2010</td>\n",
       "      <td>PA</td>\n",
       "      <td>1.005769e+06</td>\n",
       "      <td>PSDB</td>\n",
       "      <td>-0.27146</td>\n",
       "    </tr>\n",
       "    <tr>\n",
       "      <th>37</th>\n",
       "      <td>2014</td>\n",
       "      <td>PA</td>\n",
       "      <td>1.003039e+06</td>\n",
       "      <td>PSDB</td>\n",
       "      <td>-1.523131</td>\n",
       "    </tr>\n",
       "    <tr>\n",
       "      <th>39</th>\n",
       "      <td>1998</td>\n",
       "      <td>RO</td>\n",
       "      <td>1.834890e+05</td>\n",
       "      <td>PFL</td>\n",
       "      <td>-5.065036</td>\n",
       "    </tr>\n",
       "    <tr>\n",
       "      <th>40</th>\n",
       "      <td>2002</td>\n",
       "      <td>RO</td>\n",
       "      <td>1.741952e+05</td>\n",
       "      <td>PSDB</td>\n",
       "      <td>-7.892197</td>\n",
       "    </tr>\n",
       "    <tr>\n",
       "      <th>41</th>\n",
       "      <td>2006</td>\n",
       "      <td>RO</td>\n",
       "      <td>1.604474e+05</td>\n",
       "      <td>PPS</td>\n",
       "      <td>-1.6575</td>\n",
       "    </tr>\n",
       "    <tr>\n",
       "      <th>42</th>\n",
       "      <td>2010</td>\n",
       "      <td>RO</td>\n",
       "      <td>1.577880e+05</td>\n",
       "      <td>PMDB</td>\n",
       "      <td>-2.020351</td>\n",
       "    </tr>\n",
       "    <tr>\n",
       "      <th>43</th>\n",
       "      <td>2014</td>\n",
       "      <td>RO</td>\n",
       "      <td>1.546001e+05</td>\n",
       "      <td>PMDB</td>\n",
       "      <td>-4.086917</td>\n",
       "    </tr>\n",
       "    <tr>\n",
       "      <th>45</th>\n",
       "      <td>1994</td>\n",
       "      <td>RR</td>\n",
       "      <td>2.183060e+05</td>\n",
       "      <td>PTB</td>\n",
       "      <td>-0.453156</td>\n",
       "    </tr>\n",
       "    <tr>\n",
       "      <th>46</th>\n",
       "      <td>1998</td>\n",
       "      <td>RR</td>\n",
       "      <td>2.173168e+05</td>\n",
       "      <td>PPB</td>\n",
       "      <td>-0.822836</td>\n",
       "    </tr>\n",
       "    <tr>\n",
       "      <th>47</th>\n",
       "      <td>2002</td>\n",
       "      <td>RR</td>\n",
       "      <td>2.155286e+05</td>\n",
       "      <td>PSL</td>\n",
       "      <td>-0.142464</td>\n",
       "    </tr>\n",
       "    <tr>\n",
       "      <th>48</th>\n",
       "      <td>2006</td>\n",
       "      <td>RR</td>\n",
       "      <td>2.152216e+05</td>\n",
       "      <td>PSDB</td>\n",
       "      <td>-0.318299</td>\n",
       "    </tr>\n",
       "    <tr>\n",
       "      <th>49</th>\n",
       "      <td>2010</td>\n",
       "      <td>RR</td>\n",
       "      <td>2.145365e+05</td>\n",
       "      <td>PSDB</td>\n",
       "      <td>-0.366137</td>\n",
       "    </tr>\n",
       "    <tr>\n",
       "      <th>50</th>\n",
       "      <td>2014</td>\n",
       "      <td>RR</td>\n",
       "      <td>2.137510e+05</td>\n",
       "      <td>PP</td>\n",
       "      <td>-0.9028</td>\n",
       "    </tr>\n",
       "    <tr>\n",
       "      <th>52</th>\n",
       "      <td>1994</td>\n",
       "      <td>TO</td>\n",
       "      <td>8.569076e+03</td>\n",
       "      <td>PPR</td>\n",
       "      <td>-17.059026</td>\n",
       "    </tr>\n",
       "    <tr>\n",
       "      <th>53</th>\n",
       "      <td>1998</td>\n",
       "      <td>TO</td>\n",
       "      <td>7.107275e+03</td>\n",
       "      <td>PFL</td>\n",
       "      <td>-25.043074</td>\n",
       "    </tr>\n",
       "    <tr>\n",
       "      <th>54</th>\n",
       "      <td>2002</td>\n",
       "      <td>TO</td>\n",
       "      <td>5.327395e+03</td>\n",
       "      <td>PFL</td>\n",
       "      <td>19.090133</td>\n",
       "    </tr>\n",
       "    <tr>\n",
       "      <th>55</th>\n",
       "      <td>2006</td>\n",
       "      <td>TO</td>\n",
       "      <td>6.344402e+03</td>\n",
       "      <td>PMDB</td>\n",
       "      <td>-1.909955</td>\n",
       "    </tr>\n",
       "    <tr>\n",
       "      <th>56</th>\n",
       "      <td>2010</td>\n",
       "      <td>TO</td>\n",
       "      <td>6.223226e+03</td>\n",
       "      <td>PSDB</td>\n",
       "      <td>10.386165</td>\n",
       "    </tr>\n",
       "    <tr>\n",
       "      <th>57</th>\n",
       "      <td>2014</td>\n",
       "      <td>TO</td>\n",
       "      <td>6.869581e+03</td>\n",
       "      <td>PMDB</td>\n",
       "      <td>-3.263502</td>\n",
       "    </tr>\n",
       "  </tbody>\n",
       "</table>\n",
       "</div>"
      ],
      "text/plain": [
       "     ano sigla_uf     areatotal sigla_partido      delta\n",
       "0   1994       AC  1.547424e+05           PPR   -1.62098\n",
       "1   1998       AC  1.522341e+05            PT  -2.769942\n",
       "2   2002       AC  1.480173e+05            PT  -0.201035\n",
       "3   2006       AC  1.477197e+05            PT  -0.813853\n",
       "4   2010       AC  1.465175e+05            PT  -0.592542\n",
       "5   2014       AC  1.456493e+05            PT  -1.051536\n",
       "7   1994       AM  1.505151e+06           PPR  -0.102529\n",
       "8   1998       AM  1.503607e+06           PFL   0.007702\n",
       "9   2002       AM  1.503723e+06           PPS  -0.401206\n",
       "10  2006       AM  1.497690e+06          PMDB  -0.112286\n",
       "11  2010       AM  1.496009e+06           PMN  -0.212082\n",
       "12  2014       AM  1.492836e+06          PROS  -0.292676\n",
       "14  1994       AP  1.368060e+05           PSB  -0.022338\n",
       "15  1998       AP  1.367754e+05           PSB   0.156079\n",
       "16  2002       AP  1.369889e+05           PDT   0.172612\n",
       "17  2006       AP  1.372254e+05           PDT  -0.216583\n",
       "18  2010       AP  1.369282e+05           PSB  -0.260217\n",
       "19  2014       AP  1.365718e+05           PDT  -0.216725\n",
       "21  1994       MA  7.548116e+04           PFL  -5.797984\n",
       "22  1998       MA  7.110477e+04           PFL   -8.05166\n",
       "23  2002       MA  6.537966e+04           PFL   -7.14347\n",
       "24  2006       MA  6.070928e+04           PDT  -4.124277\n",
       "25  2010       MA  5.820546e+04          PMDB  -3.161876\n",
       "26  2014       MA  5.636508e+04       PC do B  -2.601661\n",
       "28  1998       MT  4.098620e+05          PSDB   -6.03587\n",
       "29  2002       MT  3.851232e+05           PPS   -8.91838\n",
       "30  2006       MT  3.507765e+05           PPS  -2.140185\n",
       "31  2010       MT  3.432692e+05          PMDB   0.258326\n",
       "33  1998       PA  1.079994e+06          PSDB  -2.267143\n",
       "34  2002       PA  1.055509e+06          PSDB  -3.252008\n",
       "35  2006       PA  1.021184e+06            PT  -1.509482\n",
       "36  2010       PA  1.005769e+06          PSDB   -0.27146\n",
       "37  2014       PA  1.003039e+06          PSDB  -1.523131\n",
       "39  1998       RO  1.834890e+05           PFL  -5.065036\n",
       "40  2002       RO  1.741952e+05          PSDB  -7.892197\n",
       "41  2006       RO  1.604474e+05           PPS    -1.6575\n",
       "42  2010       RO  1.577880e+05          PMDB  -2.020351\n",
       "43  2014       RO  1.546001e+05          PMDB  -4.086917\n",
       "45  1994       RR  2.183060e+05           PTB  -0.453156\n",
       "46  1998       RR  2.173168e+05           PPB  -0.822836\n",
       "47  2002       RR  2.155286e+05           PSL  -0.142464\n",
       "48  2006       RR  2.152216e+05          PSDB  -0.318299\n",
       "49  2010       RR  2.145365e+05          PSDB  -0.366137\n",
       "50  2014       RR  2.137510e+05            PP    -0.9028\n",
       "52  1994       TO  8.569076e+03           PPR -17.059026\n",
       "53  1998       TO  7.107275e+03           PFL -25.043074\n",
       "54  2002       TO  5.327395e+03           PFL  19.090133\n",
       "55  2006       TO  6.344402e+03          PMDB  -1.909955\n",
       "56  2010       TO  6.223226e+03          PSDB  10.386165\n",
       "57  2014       TO  6.869581e+03          PMDB  -3.263502"
      ]
     },
     "execution_count": 102,
     "metadata": {},
     "output_type": "execute_result"
    }
   ],
   "source": [
    "deltadb"
   ]
  },
  {
   "cell_type": "markdown",
   "id": "e7a09b9d",
   "metadata": {},
   "source": [
    "<h4> Com a porcentagem da área perdida relacionada com o partido que estava no mandato, podemos fazer cálculos para comparar quem foi mais permissivo em relação à perda da biodiversidade"
   ]
  },
  {
   "cell_type": "code",
   "execution_count": 103,
   "id": "17f90e97",
   "metadata": {},
   "outputs": [
    {
     "data": {
      "text/html": [
       "<div>\n",
       "<style scoped>\n",
       "    .dataframe tbody tr th:only-of-type {\n",
       "        vertical-align: middle;\n",
       "    }\n",
       "\n",
       "    .dataframe tbody tr th {\n",
       "        vertical-align: top;\n",
       "    }\n",
       "\n",
       "    .dataframe thead th {\n",
       "        text-align: right;\n",
       "    }\n",
       "</style>\n",
       "<table border=\"1\" class=\"dataframe\">\n",
       "  <thead>\n",
       "    <tr style=\"text-align: right;\">\n",
       "      <th></th>\n",
       "      <th>sigla_partido</th>\n",
       "      <th>delta</th>\n",
       "    </tr>\n",
       "  </thead>\n",
       "  <tbody>\n",
       "    <tr>\n",
       "      <th>0</th>\n",
       "      <td>PPR</td>\n",
       "      <td>-1.62098</td>\n",
       "    </tr>\n",
       "    <tr>\n",
       "      <th>1</th>\n",
       "      <td>PT</td>\n",
       "      <td>-2.769942</td>\n",
       "    </tr>\n",
       "    <tr>\n",
       "      <th>2</th>\n",
       "      <td>PT</td>\n",
       "      <td>-0.201035</td>\n",
       "    </tr>\n",
       "    <tr>\n",
       "      <th>3</th>\n",
       "      <td>PT</td>\n",
       "      <td>-0.813853</td>\n",
       "    </tr>\n",
       "    <tr>\n",
       "      <th>4</th>\n",
       "      <td>PT</td>\n",
       "      <td>-0.592542</td>\n",
       "    </tr>\n",
       "    <tr>\n",
       "      <th>5</th>\n",
       "      <td>PT</td>\n",
       "      <td>-1.051536</td>\n",
       "    </tr>\n",
       "    <tr>\n",
       "      <th>7</th>\n",
       "      <td>PPR</td>\n",
       "      <td>-0.102529</td>\n",
       "    </tr>\n",
       "    <tr>\n",
       "      <th>8</th>\n",
       "      <td>PFL</td>\n",
       "      <td>0.007702</td>\n",
       "    </tr>\n",
       "    <tr>\n",
       "      <th>9</th>\n",
       "      <td>PPS</td>\n",
       "      <td>-0.401206</td>\n",
       "    </tr>\n",
       "    <tr>\n",
       "      <th>10</th>\n",
       "      <td>PMDB</td>\n",
       "      <td>-0.112286</td>\n",
       "    </tr>\n",
       "    <tr>\n",
       "      <th>11</th>\n",
       "      <td>PMN</td>\n",
       "      <td>-0.212082</td>\n",
       "    </tr>\n",
       "    <tr>\n",
       "      <th>12</th>\n",
       "      <td>PROS</td>\n",
       "      <td>-0.292676</td>\n",
       "    </tr>\n",
       "    <tr>\n",
       "      <th>14</th>\n",
       "      <td>PSB</td>\n",
       "      <td>-0.022338</td>\n",
       "    </tr>\n",
       "    <tr>\n",
       "      <th>15</th>\n",
       "      <td>PSB</td>\n",
       "      <td>0.156079</td>\n",
       "    </tr>\n",
       "    <tr>\n",
       "      <th>16</th>\n",
       "      <td>PDT</td>\n",
       "      <td>0.172612</td>\n",
       "    </tr>\n",
       "  </tbody>\n",
       "</table>\n",
       "</div>"
      ],
      "text/plain": [
       "   sigla_partido     delta\n",
       "0            PPR  -1.62098\n",
       "1             PT -2.769942\n",
       "2             PT -0.201035\n",
       "3             PT -0.813853\n",
       "4             PT -0.592542\n",
       "5             PT -1.051536\n",
       "7            PPR -0.102529\n",
       "8            PFL  0.007702\n",
       "9            PPS -0.401206\n",
       "10          PMDB -0.112286\n",
       "11           PMN -0.212082\n",
       "12          PROS -0.292676\n",
       "14           PSB -0.022338\n",
       "15           PSB  0.156079\n",
       "16           PDT  0.172612"
      ]
     },
     "execution_count": 103,
     "metadata": {},
     "output_type": "execute_result"
    }
   ],
   "source": [
    "#Vamos usar as duas colunas, a que indica o partido que governou, e o saldo do mandato em relação a área do bioma\n",
    "ptbioma= deltadb[['sigla_partido','delta'] ]\n",
    "ptbioma.head(15)"
   ]
  },
  {
   "cell_type": "markdown",
   "id": "50afb9e8",
   "metadata": {},
   "source": [
    "<h3> Somamos porcentagens por cada partido e fazemos uma média em relação a quantos mandatos o partido teve, para poder comparar qual foi o mais permissivo"
   ]
  },
  {
   "cell_type": "markdown",
   "id": "765cf0c2",
   "metadata": {},
   "source": [
    "<h4>Somando porcentagens por partido:"
   ]
  },
  {
   "cell_type": "code",
   "execution_count": 104,
   "id": "6b5d2d62",
   "metadata": {},
   "outputs": [],
   "source": [
    "a= ptbioma.groupby('sigla_partido').delta.sum()"
   ]
  },
  {
   "cell_type": "markdown",
   "id": "1ce1df1f",
   "metadata": {},
   "source": [
    "<h4>Contando instâncias de partidos para fazer a média"
   ]
  },
  {
   "cell_type": "code",
   "execution_count": 105,
   "id": "a0d6205d",
   "metadata": {
    "scrolled": true
   },
   "outputs": [],
   "source": [
    "b = ptbioma.groupby('sigla_partido').sigla_partido.count()"
   ]
  },
  {
   "cell_type": "markdown",
   "id": "b804d19b",
   "metadata": {},
   "source": [
    "<b> Pegando a média por partido"
   ]
  },
  {
   "cell_type": "code",
   "execution_count": 106,
   "id": "08dc13f1",
   "metadata": {},
   "outputs": [
    {
     "data": {
      "text/plain": [
       "sigla_partido\n",
       "PPR       -6.260845\n",
       "PFL       -4.571913\n",
       "PPS       -3.279318\n",
       "PC do B   -2.601661\n",
       "PMDB      -2.042366\n",
       "PSDB      -1.282231\n",
       "PT        -1.156398\n",
       "PDT       -1.096243\n",
       "PP        -0.902800\n",
       "PPB       -0.822836\n",
       "PTB       -0.453156\n",
       "PROS      -0.292676\n",
       "PMN       -0.212082\n",
       "PSL       -0.142464\n",
       "PSB       -0.042159\n",
       "dtype: float64"
      ]
     },
     "execution_count": 106,
     "metadata": {},
     "output_type": "execute_result"
    }
   ],
   "source": [
    "mediapercentpart = a/b\n",
    "mediapercentpart.sort_values(ascending=True)"
   ]
  },
  {
   "cell_type": "markdown",
   "id": "4c4c7cbc",
   "metadata": {},
   "source": [
    "<h3>Vamos selecionar os estados que tiveram perdas mais massivas em relaçao ao bioma da amazônia"
   ]
  },
  {
   "cell_type": "markdown",
   "id": "4bac4546",
   "metadata": {},
   "source": [
    "<p>Queremos a perda total no espaço amostral de tempo por cada estado, vamos selecionar o que teve mais área perdida comparativamente para visualizar os dados de como foram a sequencia de mandatos, e em qual mandato mais teve perda\n",
    "   "
   ]
  },
  {
   "cell_type": "code",
   "execution_count": 107,
   "id": "d14e8332",
   "metadata": {},
   "outputs": [],
   "source": [
    "perdaestado= deltadb.groupby('sigla_uf').delta.sum()"
   ]
  },
  {
   "cell_type": "markdown",
   "id": "fd4712c1",
   "metadata": {},
   "source": [
    "<p>Temos a informação da soma das perdas, mas ainda precisamos normalizar o dado, já que a cobertura de tempo de diferentes estados também é diferente"
   ]
  },
  {
   "cell_type": "code",
   "execution_count": 108,
   "id": "80272fb7",
   "metadata": {},
   "outputs": [],
   "source": [
    "countestado=deltadb.groupby('sigla_uf').sigla_uf.count()"
   ]
  },
  {
   "cell_type": "code",
   "execution_count": 109,
   "id": "f04f6559",
   "metadata": {},
   "outputs": [
    {
     "data": {
      "text/plain": [
       "sigla_uf\n",
       "MA   -5.146821\n",
       "MT   -4.209027\n",
       "RO   -4.144400\n",
       "TO   -2.966543\n",
       "PA   -1.764645\n",
       "AC   -1.174981\n",
       "RR   -0.500949\n",
       "AM   -0.185513\n",
       "AP   -0.064529\n",
       "dtype: float64"
      ]
     },
     "execution_count": 109,
     "metadata": {},
     "output_type": "execute_result"
    }
   ],
   "source": [
    "pestcpt= perdaestado/countestado\n",
    "pestcpt.sort_values(ascending=True)"
   ]
  },
  {
   "cell_type": "markdown",
   "id": "5937e34d",
   "metadata": {},
   "source": [
    "<b> Vemos que comparativamente, as unidades federais que mais sofreram foram: Maranhão, Mato Grosso e Rondônia"
   ]
  },
  {
   "cell_type": "markdown",
   "id": "5edc8291",
   "metadata": {},
   "source": [
    "<h3> Vamos explorar os dados e procurar quais foram os governos desses estados para ver qual foi mais nocivo para o bioma da amazônia"
   ]
  },
  {
   "cell_type": "markdown",
   "id": "e57f5714",
   "metadata": {},
   "source": [
    "<p> Selecionando dados referentes aos 3 estados que mais sofreram com a perda do bioma amazônia e adicionando os mandatos:"
   ]
  },
  {
   "cell_type": "markdown",
   "id": "b73be78c",
   "metadata": {},
   "source": [
    "<b> Abaixo adicionamos o governo em dado mandato"
   ]
  },
  {
   "cell_type": "code",
   "execution_count": 176,
   "id": "ba5704fc",
   "metadata": {},
   "outputs": [
    {
     "data": {
      "text/html": [
       "<div>\n",
       "<style scoped>\n",
       "    .dataframe tbody tr th:only-of-type {\n",
       "        vertical-align: middle;\n",
       "    }\n",
       "\n",
       "    .dataframe tbody tr th {\n",
       "        vertical-align: top;\n",
       "    }\n",
       "\n",
       "    .dataframe thead th {\n",
       "        text-align: right;\n",
       "    }\n",
       "</style>\n",
       "<table border=\"1\" class=\"dataframe\">\n",
       "  <thead>\n",
       "    <tr style=\"text-align: right;\">\n",
       "      <th></th>\n",
       "      <th>ano</th>\n",
       "      <th>sigla_uf</th>\n",
       "      <th>areatotal</th>\n",
       "      <th>sigla_partido</th>\n",
       "      <th>delta</th>\n",
       "      <th>governo_ano</th>\n",
       "    </tr>\n",
       "  </thead>\n",
       "  <tbody>\n",
       "    <tr>\n",
       "      <th>21</th>\n",
       "      <td>1994</td>\n",
       "      <td>MA</td>\n",
       "      <td>75481.156639</td>\n",
       "      <td>PFL</td>\n",
       "      <td>-5.797984</td>\n",
       "      <td>1994-1998(PFL)</td>\n",
       "    </tr>\n",
       "    <tr>\n",
       "      <th>22</th>\n",
       "      <td>1998</td>\n",
       "      <td>MA</td>\n",
       "      <td>71104.771291</td>\n",
       "      <td>PFL</td>\n",
       "      <td>-8.05166</td>\n",
       "      <td>1998-2002(PFL)</td>\n",
       "    </tr>\n",
       "    <tr>\n",
       "      <th>23</th>\n",
       "      <td>2002</td>\n",
       "      <td>MA</td>\n",
       "      <td>65379.657086</td>\n",
       "      <td>PFL</td>\n",
       "      <td>-7.14347</td>\n",
       "      <td>2002-2006(PFL)</td>\n",
       "    </tr>\n",
       "    <tr>\n",
       "      <th>24</th>\n",
       "      <td>2006</td>\n",
       "      <td>MA</td>\n",
       "      <td>60709.280675</td>\n",
       "      <td>PDT</td>\n",
       "      <td>-4.124277</td>\n",
       "      <td>2006-2010(PDT)</td>\n",
       "    </tr>\n",
       "    <tr>\n",
       "      <th>25</th>\n",
       "      <td>2010</td>\n",
       "      <td>MA</td>\n",
       "      <td>58205.461653</td>\n",
       "      <td>PMDB</td>\n",
       "      <td>-3.161876</td>\n",
       "      <td>2010-2014(PMDB)</td>\n",
       "    </tr>\n",
       "    <tr>\n",
       "      <th>26</th>\n",
       "      <td>2014</td>\n",
       "      <td>MA</td>\n",
       "      <td>56365.076957</td>\n",
       "      <td>PC do B</td>\n",
       "      <td>-2.601661</td>\n",
       "      <td>2014-2018(PC do B)</td>\n",
       "    </tr>\n",
       "    <tr>\n",
       "      <th>28</th>\n",
       "      <td>1998</td>\n",
       "      <td>MT</td>\n",
       "      <td>409861.953011</td>\n",
       "      <td>PSDB</td>\n",
       "      <td>-6.03587</td>\n",
       "      <td>1998-2002(PSDB)</td>\n",
       "    </tr>\n",
       "    <tr>\n",
       "      <th>29</th>\n",
       "      <td>2002</td>\n",
       "      <td>MT</td>\n",
       "      <td>385123.217209</td>\n",
       "      <td>PPS</td>\n",
       "      <td>-8.91838</td>\n",
       "      <td>2002-2006(PPS)</td>\n",
       "    </tr>\n",
       "    <tr>\n",
       "      <th>30</th>\n",
       "      <td>2006</td>\n",
       "      <td>MT</td>\n",
       "      <td>350776.466734</td>\n",
       "      <td>PPS</td>\n",
       "      <td>-2.140185</td>\n",
       "      <td>2006-2010(PPS)</td>\n",
       "    </tr>\n",
       "    <tr>\n",
       "      <th>31</th>\n",
       "      <td>2010</td>\n",
       "      <td>MT</td>\n",
       "      <td>343269.200508</td>\n",
       "      <td>PMDB</td>\n",
       "      <td>0.258326</td>\n",
       "      <td>2010-2014(PMDB)</td>\n",
       "    </tr>\n",
       "    <tr>\n",
       "      <th>39</th>\n",
       "      <td>1998</td>\n",
       "      <td>RO</td>\n",
       "      <td>183489.029383</td>\n",
       "      <td>PFL</td>\n",
       "      <td>-5.065036</td>\n",
       "      <td>1998-2002(PFL)</td>\n",
       "    </tr>\n",
       "    <tr>\n",
       "      <th>40</th>\n",
       "      <td>2002</td>\n",
       "      <td>RO</td>\n",
       "      <td>174195.243880</td>\n",
       "      <td>PSDB</td>\n",
       "      <td>-7.892197</td>\n",
       "      <td>2002-2006(PSDB)</td>\n",
       "    </tr>\n",
       "    <tr>\n",
       "      <th>41</th>\n",
       "      <td>2006</td>\n",
       "      <td>RO</td>\n",
       "      <td>160447.412213</td>\n",
       "      <td>PPS</td>\n",
       "      <td>-1.6575</td>\n",
       "      <td>2006-2010(PPS)</td>\n",
       "    </tr>\n",
       "    <tr>\n",
       "      <th>42</th>\n",
       "      <td>2010</td>\n",
       "      <td>RO</td>\n",
       "      <td>157787.996468</td>\n",
       "      <td>PMDB</td>\n",
       "      <td>-2.020351</td>\n",
       "      <td>2010-2014(PMDB)</td>\n",
       "    </tr>\n",
       "    <tr>\n",
       "      <th>43</th>\n",
       "      <td>2014</td>\n",
       "      <td>RO</td>\n",
       "      <td>154600.125680</td>\n",
       "      <td>PMDB</td>\n",
       "      <td>-4.086917</td>\n",
       "      <td>2014-2018(PMDB)</td>\n",
       "    </tr>\n",
       "  </tbody>\n",
       "</table>\n",
       "</div>"
      ],
      "text/plain": [
       "     ano sigla_uf      areatotal sigla_partido     delta         governo_ano\n",
       "21  1994       MA   75481.156639           PFL -5.797984      1994-1998(PFL)\n",
       "22  1998       MA   71104.771291           PFL  -8.05166      1998-2002(PFL)\n",
       "23  2002       MA   65379.657086           PFL  -7.14347      2002-2006(PFL)\n",
       "24  2006       MA   60709.280675           PDT -4.124277      2006-2010(PDT)\n",
       "25  2010       MA   58205.461653          PMDB -3.161876     2010-2014(PMDB)\n",
       "26  2014       MA   56365.076957       PC do B -2.601661  2014-2018(PC do B)\n",
       "28  1998       MT  409861.953011          PSDB  -6.03587     1998-2002(PSDB)\n",
       "29  2002       MT  385123.217209           PPS  -8.91838      2002-2006(PPS)\n",
       "30  2006       MT  350776.466734           PPS -2.140185      2006-2010(PPS)\n",
       "31  2010       MT  343269.200508          PMDB  0.258326     2010-2014(PMDB)\n",
       "39  1998       RO  183489.029383           PFL -5.065036      1998-2002(PFL)\n",
       "40  2002       RO  174195.243880          PSDB -7.892197     2002-2006(PSDB)\n",
       "41  2006       RO  160447.412213           PPS   -1.6575      2006-2010(PPS)\n",
       "42  2010       RO  157787.996468          PMDB -2.020351     2010-2014(PMDB)\n",
       "43  2014       RO  154600.125680          PMDB -4.086917     2014-2018(PMDB)"
      ]
     },
     "execution_count": 176,
     "metadata": {},
     "output_type": "execute_result"
    }
   ],
   "source": [
    "rodb= deltadb.query('sigla_uf == \"RO\" or sigla_uf == \"MT\" or sigla_uf == \"MA\"')\n",
    "rodb[\"governo_ano\"]= rodb[\"ano\"].astype(str) + \"-\" + ((rodb[\"ano\"] + 4 ).astype(str))  +\"(\"+ rodb[\"sigla_partido\"] + \")\"\n",
    "rodb"
   ]
  },
  {
   "cell_type": "code",
   "execution_count": 132,
   "id": "4248cc80",
   "metadata": {},
   "outputs": [
    {
     "data": {
      "text/html": [
       "<div>\n",
       "<style scoped>\n",
       "    .dataframe tbody tr th:only-of-type {\n",
       "        vertical-align: middle;\n",
       "    }\n",
       "\n",
       "    .dataframe tbody tr th {\n",
       "        vertical-align: top;\n",
       "    }\n",
       "\n",
       "    .dataframe thead th {\n",
       "        text-align: right;\n",
       "    }\n",
       "</style>\n",
       "<table border=\"1\" class=\"dataframe\">\n",
       "  <thead>\n",
       "    <tr style=\"text-align: right;\">\n",
       "      <th></th>\n",
       "      <th>ano</th>\n",
       "      <th>sigla_uf</th>\n",
       "      <th>areatotal</th>\n",
       "      <th>sigla_partido</th>\n",
       "      <th>delta</th>\n",
       "      <th>governo_ano</th>\n",
       "    </tr>\n",
       "  </thead>\n",
       "  <tbody>\n",
       "    <tr>\n",
       "      <th>28</th>\n",
       "      <td>1998</td>\n",
       "      <td>MT</td>\n",
       "      <td>409861.953011</td>\n",
       "      <td>PSDB</td>\n",
       "      <td>-6.03587</td>\n",
       "      <td>1998-2002_PSDB</td>\n",
       "    </tr>\n",
       "    <tr>\n",
       "      <th>29</th>\n",
       "      <td>2002</td>\n",
       "      <td>MT</td>\n",
       "      <td>385123.217209</td>\n",
       "      <td>PPS</td>\n",
       "      <td>-8.91838</td>\n",
       "      <td>2002-2006_PPS</td>\n",
       "    </tr>\n",
       "    <tr>\n",
       "      <th>30</th>\n",
       "      <td>2006</td>\n",
       "      <td>MT</td>\n",
       "      <td>350776.466734</td>\n",
       "      <td>PPS</td>\n",
       "      <td>-2.140185</td>\n",
       "      <td>2006-2010_PPS</td>\n",
       "    </tr>\n",
       "    <tr>\n",
       "      <th>31</th>\n",
       "      <td>2010</td>\n",
       "      <td>MT</td>\n",
       "      <td>343269.200508</td>\n",
       "      <td>PMDB</td>\n",
       "      <td>0.258326</td>\n",
       "      <td>2010-2014_PMDB</td>\n",
       "    </tr>\n",
       "  </tbody>\n",
       "</table>\n",
       "</div>"
      ],
      "text/plain": [
       "     ano sigla_uf      areatotal sigla_partido     delta     governo_ano\n",
       "28  1998       MT  409861.953011          PSDB  -6.03587  1998-2002_PSDB\n",
       "29  2002       MT  385123.217209           PPS  -8.91838   2002-2006_PPS\n",
       "30  2006       MT  350776.466734           PPS -2.140185   2006-2010_PPS\n",
       "31  2010       MT  343269.200508          PMDB  0.258326  2010-2014_PMDB"
      ]
     },
     "execution_count": 132,
     "metadata": {},
     "output_type": "execute_result"
    }
   ],
   "source": [
    "mtdb= rodb.query('sigla_uf == \"MT\"')\n",
    "mtdb"
   ]
  },
  {
   "cell_type": "code",
   "execution_count": 133,
   "id": "6f107750",
   "metadata": {},
   "outputs": [
    {
     "data": {
      "text/html": [
       "<div>\n",
       "<style scoped>\n",
       "    .dataframe tbody tr th:only-of-type {\n",
       "        vertical-align: middle;\n",
       "    }\n",
       "\n",
       "    .dataframe tbody tr th {\n",
       "        vertical-align: top;\n",
       "    }\n",
       "\n",
       "    .dataframe thead th {\n",
       "        text-align: right;\n",
       "    }\n",
       "</style>\n",
       "<table border=\"1\" class=\"dataframe\">\n",
       "  <thead>\n",
       "    <tr style=\"text-align: right;\">\n",
       "      <th></th>\n",
       "      <th>ano</th>\n",
       "      <th>sigla_uf</th>\n",
       "      <th>areatotal</th>\n",
       "      <th>sigla_partido</th>\n",
       "      <th>delta</th>\n",
       "      <th>governo_ano</th>\n",
       "    </tr>\n",
       "  </thead>\n",
       "  <tbody>\n",
       "    <tr>\n",
       "      <th>21</th>\n",
       "      <td>1994</td>\n",
       "      <td>MA</td>\n",
       "      <td>75481.156639</td>\n",
       "      <td>PFL</td>\n",
       "      <td>-5.797984</td>\n",
       "      <td>1994-1998_PFL</td>\n",
       "    </tr>\n",
       "    <tr>\n",
       "      <th>22</th>\n",
       "      <td>1998</td>\n",
       "      <td>MA</td>\n",
       "      <td>71104.771291</td>\n",
       "      <td>PFL</td>\n",
       "      <td>-8.05166</td>\n",
       "      <td>1998-2002_PFL</td>\n",
       "    </tr>\n",
       "    <tr>\n",
       "      <th>23</th>\n",
       "      <td>2002</td>\n",
       "      <td>MA</td>\n",
       "      <td>65379.657086</td>\n",
       "      <td>PFL</td>\n",
       "      <td>-7.14347</td>\n",
       "      <td>2002-2006_PFL</td>\n",
       "    </tr>\n",
       "    <tr>\n",
       "      <th>24</th>\n",
       "      <td>2006</td>\n",
       "      <td>MA</td>\n",
       "      <td>60709.280675</td>\n",
       "      <td>PDT</td>\n",
       "      <td>-4.124277</td>\n",
       "      <td>2006-2010_PDT</td>\n",
       "    </tr>\n",
       "    <tr>\n",
       "      <th>25</th>\n",
       "      <td>2010</td>\n",
       "      <td>MA</td>\n",
       "      <td>58205.461653</td>\n",
       "      <td>PMDB</td>\n",
       "      <td>-3.161876</td>\n",
       "      <td>2010-2014_PMDB</td>\n",
       "    </tr>\n",
       "    <tr>\n",
       "      <th>26</th>\n",
       "      <td>2014</td>\n",
       "      <td>MA</td>\n",
       "      <td>56365.076957</td>\n",
       "      <td>PC do B</td>\n",
       "      <td>-2.601661</td>\n",
       "      <td>2014-2018_PC do B</td>\n",
       "    </tr>\n",
       "  </tbody>\n",
       "</table>\n",
       "</div>"
      ],
      "text/plain": [
       "     ano sigla_uf     areatotal sigla_partido     delta        governo_ano\n",
       "21  1994       MA  75481.156639           PFL -5.797984      1994-1998_PFL\n",
       "22  1998       MA  71104.771291           PFL  -8.05166      1998-2002_PFL\n",
       "23  2002       MA  65379.657086           PFL  -7.14347      2002-2006_PFL\n",
       "24  2006       MA  60709.280675           PDT -4.124277      2006-2010_PDT\n",
       "25  2010       MA  58205.461653          PMDB -3.161876     2010-2014_PMDB\n",
       "26  2014       MA  56365.076957       PC do B -2.601661  2014-2018_PC do B"
      ]
     },
     "execution_count": 133,
     "metadata": {},
     "output_type": "execute_result"
    }
   ],
   "source": [
    "madb= rodb.query('sigla_uf == \"MA\"')\n",
    "madb"
   ]
  },
  {
   "cell_type": "code",
   "execution_count": 210,
   "id": "f3a841ee",
   "metadata": {},
   "outputs": [
    {
     "data": {
      "text/html": [
       "<div>\n",
       "<style scoped>\n",
       "    .dataframe tbody tr th:only-of-type {\n",
       "        vertical-align: middle;\n",
       "    }\n",
       "\n",
       "    .dataframe tbody tr th {\n",
       "        vertical-align: top;\n",
       "    }\n",
       "\n",
       "    .dataframe thead th {\n",
       "        text-align: right;\n",
       "    }\n",
       "</style>\n",
       "<table border=\"1\" class=\"dataframe\">\n",
       "  <thead>\n",
       "    <tr style=\"text-align: right;\">\n",
       "      <th></th>\n",
       "      <th>ano</th>\n",
       "      <th>sigla_uf</th>\n",
       "      <th>areatotal</th>\n",
       "      <th>sigla_partido</th>\n",
       "      <th>delta</th>\n",
       "      <th>governo_ano</th>\n",
       "    </tr>\n",
       "  </thead>\n",
       "  <tbody>\n",
       "    <tr>\n",
       "      <th>39</th>\n",
       "      <td>1998</td>\n",
       "      <td>RO</td>\n",
       "      <td>183489.029383</td>\n",
       "      <td>PFL</td>\n",
       "      <td>-5.065036</td>\n",
       "      <td>1998-2002(PFL)</td>\n",
       "    </tr>\n",
       "    <tr>\n",
       "      <th>40</th>\n",
       "      <td>2002</td>\n",
       "      <td>RO</td>\n",
       "      <td>174195.243880</td>\n",
       "      <td>PSDB</td>\n",
       "      <td>-7.892197</td>\n",
       "      <td>2002-2006(PSDB)</td>\n",
       "    </tr>\n",
       "    <tr>\n",
       "      <th>41</th>\n",
       "      <td>2006</td>\n",
       "      <td>RO</td>\n",
       "      <td>160447.412213</td>\n",
       "      <td>PPS</td>\n",
       "      <td>-1.6575</td>\n",
       "      <td>2006-2010(PPS)</td>\n",
       "    </tr>\n",
       "    <tr>\n",
       "      <th>42</th>\n",
       "      <td>2010</td>\n",
       "      <td>RO</td>\n",
       "      <td>157787.996468</td>\n",
       "      <td>PMDB</td>\n",
       "      <td>-2.020351</td>\n",
       "      <td>2010-2014(PMDB)</td>\n",
       "    </tr>\n",
       "    <tr>\n",
       "      <th>43</th>\n",
       "      <td>2014</td>\n",
       "      <td>RO</td>\n",
       "      <td>154600.125680</td>\n",
       "      <td>PMDB</td>\n",
       "      <td>-4.086917</td>\n",
       "      <td>2014-2018(PMDB)</td>\n",
       "    </tr>\n",
       "  </tbody>\n",
       "</table>\n",
       "</div>"
      ],
      "text/plain": [
       "     ano sigla_uf      areatotal sigla_partido     delta      governo_ano\n",
       "39  1998       RO  183489.029383           PFL -5.065036   1998-2002(PFL)\n",
       "40  2002       RO  174195.243880          PSDB -7.892197  2002-2006(PSDB)\n",
       "41  2006       RO  160447.412213           PPS   -1.6575   2006-2010(PPS)\n",
       "42  2010       RO  157787.996468          PMDB -2.020351  2010-2014(PMDB)\n",
       "43  2014       RO  154600.125680          PMDB -4.086917  2014-2018(PMDB)"
      ]
     },
     "execution_count": 210,
     "metadata": {},
     "output_type": "execute_result"
    }
   ],
   "source": [
    "rondb= rodb.query('sigla_uf == \"RO\"')\n",
    "rondb"
   ]
  },
  {
   "cell_type": "markdown",
   "id": "2498ea84",
   "metadata": {},
   "source": [
    "dasdasda"
   ]
  },
  {
   "cell_type": "code",
   "execution_count": 267,
   "id": "2b1c1efb",
   "metadata": {
    "scrolled": true
   },
   "outputs": [
    {
     "data": {
      "text/plain": [
       "array([1994, 1995, 1996, 1997, 1998, 1999, 2000, 2001, 2002, 2003, 2004,\n",
       "       2005, 2006, 2007, 2008, 2009, 2010, 2011, 2012, 2013, 2014, 2015,\n",
       "       2016, 2017, 2018], dtype=int64)"
      ]
     },
     "execution_count": 267,
     "metadata": {},
     "output_type": "execute_result"
    }
   ],
   "source": [
    "cobvis=csvCob.query('ano >= 1994 and ano <= 2018 and (estado_abrev == \"MA\" or estado_abrev == \"MT\" or estado_abrev == \"RO\" )')\n",
    "newdf=pd.unique(cobvis[\"ano\"])"
   ]
  },
  {
   "cell_type": "markdown",
   "id": "f6fcd535",
   "metadata": {},
   "source": [
    "<h3>Modelando os dados para poder plotar em um gráfico:"
   ]
  },
  {
   "cell_type": "markdown",
   "id": "ecfd33ed",
   "metadata": {},
   "source": [
    "<p> Abaixo, modelamos um novo data frame que esteja organizado por estado e ao longo dos anos tenha sua respectiva áreatotal.\n",
    "    Modelamos desse jeito para poder plotar."
   ]
  },
  {
   "cell_type": "code",
   "execution_count": 289,
   "id": "9625f1a4",
   "metadata": {},
   "outputs": [
    {
     "data": {
      "text/html": [
       "<div>\n",
       "<style scoped>\n",
       "    .dataframe tbody tr th:only-of-type {\n",
       "        vertical-align: middle;\n",
       "    }\n",
       "\n",
       "    .dataframe tbody tr th {\n",
       "        vertical-align: top;\n",
       "    }\n",
       "\n",
       "    .dataframe thead th {\n",
       "        text-align: right;\n",
       "    }\n",
       "</style>\n",
       "<table border=\"1\" class=\"dataframe\">\n",
       "  <thead>\n",
       "    <tr style=\"text-align: right;\">\n",
       "      <th></th>\n",
       "      <th>ano</th>\n",
       "      <th>MA</th>\n",
       "      <th>MT</th>\n",
       "      <th>RO</th>\n",
       "    </tr>\n",
       "  </thead>\n",
       "  <tbody>\n",
       "    <tr>\n",
       "      <th>0</th>\n",
       "      <td>1994</td>\n",
       "      <td>75481.156639</td>\n",
       "      <td>433299.150186</td>\n",
       "      <td>195376.592716</td>\n",
       "    </tr>\n",
       "    <tr>\n",
       "      <th>1</th>\n",
       "      <td>1995</td>\n",
       "      <td>74272.545092</td>\n",
       "      <td>429766.345561</td>\n",
       "      <td>191833.580550</td>\n",
       "    </tr>\n",
       "    <tr>\n",
       "      <th>2</th>\n",
       "      <td>1996</td>\n",
       "      <td>72223.250740</td>\n",
       "      <td>422290.605462</td>\n",
       "      <td>188182.214708</td>\n",
       "    </tr>\n",
       "    <tr>\n",
       "      <th>3</th>\n",
       "      <td>1997</td>\n",
       "      <td>72837.223173</td>\n",
       "      <td>412144.718601</td>\n",
       "      <td>186252.888139</td>\n",
       "    </tr>\n",
       "    <tr>\n",
       "      <th>4</th>\n",
       "      <td>1998</td>\n",
       "      <td>71104.771291</td>\n",
       "      <td>409861.953011</td>\n",
       "      <td>183489.029383</td>\n",
       "    </tr>\n",
       "  </tbody>\n",
       "</table>\n",
       "</div>"
      ],
      "text/plain": [
       "    ano            MA             MT             RO\n",
       "0  1994  75481.156639  433299.150186  195376.592716\n",
       "1  1995  74272.545092  429766.345561  191833.580550\n",
       "2  1996  72223.250740  422290.605462  188182.214708\n",
       "3  1997  72837.223173  412144.718601  186252.888139\n",
       "4  1998  71104.771291  409861.953011  183489.029383"
      ]
     },
     "execution_count": 289,
     "metadata": {},
     "output_type": "execute_result"
    }
   ],
   "source": [
    "col = pd.unique(rodb[\"sigla_uf\"])\n",
    "cobvis=csvCob.query('ano >= 1994 and ano <= 2018 and (estado_abrev == \"MA\" or estado_abrev == \"MT\" or estado_abrev == \"RO\" )')\n",
    "cobmavis = cobvis.query('estado_abrev == \"MA\"')\n",
    "cobmtvis = cobvis.query('estado_abrev == \"MT\"')\n",
    "cobrovis = cobvis.query('estado_abrev == \"RO\"')\n",
    "newdf = pd.DataFrame(columns = col)\n",
    "\n",
    "newdf[\"ano\"]=pd.unique(cobvis[\"ano\"])\n",
    "\n",
    "\n",
    "newdf = newdf.merge(cobmavis,how = 'inner', on = 'ano').merge(cobmtvis,how= 'inner', on = 'ano').merge(cobrovis,how= 'inner', on = 'ano')\n",
    "newdf\n",
    "newdf = newdf[['ano','areatotal_x','areatotal_y', 'areatotal']]\n",
    "newdf = newdf.rename(columns = {'areatotal_x': 'MA', 'areatotal_y': 'MT', 'areatotal' : 'RO'})\n",
    "newdf.head()"
   ]
  },
  {
   "cell_type": "markdown",
   "id": "11d570d2",
   "metadata": {},
   "source": [
    "<b>Aqui usamos a biblioteca plotly para mostrar os dados:"
   ]
  },
  {
   "cell_type": "code",
   "execution_count": 288,
   "id": "e0635ca3",
   "metadata": {},
   "outputs": [
    {
     "data": {
      "application/vnd.plotly.v1+json": {
       "config": {
        "plotlyServerURL": "https://plot.ly"
       },
       "data": [
        {
         "hovertemplate": "variable=MA<br>ano=%{x}<br>value=%{y}<extra></extra>",
         "legendgroup": "MA",
         "line": {
          "color": "#636efa",
          "dash": "solid",
          "shape": "spline"
         },
         "mode": "lines",
         "name": "MA",
         "orientation": "v",
         "showlegend": true,
         "type": "scatter",
         "x": [
          1994,
          1995,
          1996,
          1997,
          1998,
          1999,
          2000,
          2001,
          2002,
          2003,
          2004,
          2005,
          2006,
          2007,
          2008,
          2009,
          2010,
          2011,
          2012,
          2013,
          2014,
          2015,
          2016,
          2017,
          2018
         ],
         "xaxis": "x",
         "y": [
          75481.156639438,
          74272.545091972,
          72223.250739591,
          72837.223173432,
          71104.771290598,
          68586.056166622,
          65087.99285979,
          65731.39712503,
          65379.657086414,
          62914.466051968,
          61355.025975691,
          61920.524608568,
          60709.28067471,
          58901.440311805,
          58907.16342385,
          57347.496967794,
          58205.461652816,
          57712.762225607,
          56139.058054401,
          56741.688102609,
          56365.076956953,
          56956.678104364,
          54174.329091319,
          56680.167568963,
          54898.648794754
         ],
         "yaxis": "y"
        },
        {
         "hovertemplate": "variable=MT<br>ano=%{x}<br>value=%{y}<extra></extra>",
         "legendgroup": "MT",
         "line": {
          "color": "#EF553B",
          "dash": "solid",
          "shape": "spline"
         },
         "mode": "lines",
         "name": "MT",
         "orientation": "v",
         "showlegend": true,
         "type": "scatter",
         "x": [
          1994,
          1995,
          1996,
          1997,
          1998,
          1999,
          2000,
          2001,
          2002,
          2003,
          2004,
          2005,
          2006,
          2007,
          2008,
          2009,
          2010,
          2011,
          2012,
          2013,
          2014,
          2015,
          2016,
          2017,
          2018
         ],
         "xaxis": "x",
         "y": [
          433299.15018599,
          429766.345560753,
          422290.605461844,
          412144.718601211,
          409861.953011042,
          401314.642965446,
          397230.617118059,
          389678.363365085,
          385123.217209312,
          374265.385681376,
          364137.695732836,
          355662.295082364,
          350776.466734042,
          350059.978892295,
          343907.525619509,
          345505.567409279,
          343269.200507589,
          343793.13318322,
          343783.114982904,
          344120.580868258,
          344155.952612842,
          339796.44513938,
          338865.401581263,
          337551.938191758,
          334544.886479528
         ],
         "yaxis": "y"
        },
        {
         "hovertemplate": "variable=RO<br>ano=%{x}<br>value=%{y}<extra></extra>",
         "legendgroup": "RO",
         "line": {
          "color": "#00cc96",
          "dash": "solid",
          "shape": "spline"
         },
         "mode": "lines",
         "name": "RO",
         "orientation": "v",
         "showlegend": true,
         "type": "scatter",
         "x": [
          1994,
          1995,
          1996,
          1997,
          1998,
          1999,
          2000,
          2001,
          2002,
          2003,
          2004,
          2005,
          2006,
          2007,
          2008,
          2009,
          2010,
          2011,
          2012,
          2013,
          2014,
          2015,
          2016,
          2017,
          2018
         ],
         "xaxis": "x",
         "y": [
          195376.592715585,
          191833.580550159,
          188182.214707703,
          186252.888139455,
          183489.029383246,
          182315.005037331,
          180206.258329491,
          177548.946157604,
          174195.24388014,
          168585.336075232,
          166187.797706674,
          162946.36207858,
          160447.412213489,
          158962.926844527,
          157946.46678113,
          157971.08440972,
          157787.996468168,
          156475.951878858,
          155409.081134102,
          155490.223074844,
          154600.125679832,
          153098.733690974,
          151710.759124082,
          149978.147050605,
          148281.747341551
         ],
         "yaxis": "y"
        }
       ],
       "layout": {
        "legend": {
         "title": {
          "text": "variable"
         },
         "tracegroupgap": 0
        },
        "template": {
         "data": {
          "bar": [
           {
            "error_x": {
             "color": "#2a3f5f"
            },
            "error_y": {
             "color": "#2a3f5f"
            },
            "marker": {
             "line": {
              "color": "#E5ECF6",
              "width": 0.5
             }
            },
            "type": "bar"
           }
          ],
          "barpolar": [
           {
            "marker": {
             "line": {
              "color": "#E5ECF6",
              "width": 0.5
             }
            },
            "type": "barpolar"
           }
          ],
          "carpet": [
           {
            "aaxis": {
             "endlinecolor": "#2a3f5f",
             "gridcolor": "white",
             "linecolor": "white",
             "minorgridcolor": "white",
             "startlinecolor": "#2a3f5f"
            },
            "baxis": {
             "endlinecolor": "#2a3f5f",
             "gridcolor": "white",
             "linecolor": "white",
             "minorgridcolor": "white",
             "startlinecolor": "#2a3f5f"
            },
            "type": "carpet"
           }
          ],
          "choropleth": [
           {
            "colorbar": {
             "outlinewidth": 0,
             "ticks": ""
            },
            "type": "choropleth"
           }
          ],
          "contour": [
           {
            "colorbar": {
             "outlinewidth": 0,
             "ticks": ""
            },
            "colorscale": [
             [
              0,
              "#0d0887"
             ],
             [
              0.1111111111111111,
              "#46039f"
             ],
             [
              0.2222222222222222,
              "#7201a8"
             ],
             [
              0.3333333333333333,
              "#9c179e"
             ],
             [
              0.4444444444444444,
              "#bd3786"
             ],
             [
              0.5555555555555556,
              "#d8576b"
             ],
             [
              0.6666666666666666,
              "#ed7953"
             ],
             [
              0.7777777777777778,
              "#fb9f3a"
             ],
             [
              0.8888888888888888,
              "#fdca26"
             ],
             [
              1,
              "#f0f921"
             ]
            ],
            "type": "contour"
           }
          ],
          "contourcarpet": [
           {
            "colorbar": {
             "outlinewidth": 0,
             "ticks": ""
            },
            "type": "contourcarpet"
           }
          ],
          "heatmap": [
           {
            "colorbar": {
             "outlinewidth": 0,
             "ticks": ""
            },
            "colorscale": [
             [
              0,
              "#0d0887"
             ],
             [
              0.1111111111111111,
              "#46039f"
             ],
             [
              0.2222222222222222,
              "#7201a8"
             ],
             [
              0.3333333333333333,
              "#9c179e"
             ],
             [
              0.4444444444444444,
              "#bd3786"
             ],
             [
              0.5555555555555556,
              "#d8576b"
             ],
             [
              0.6666666666666666,
              "#ed7953"
             ],
             [
              0.7777777777777778,
              "#fb9f3a"
             ],
             [
              0.8888888888888888,
              "#fdca26"
             ],
             [
              1,
              "#f0f921"
             ]
            ],
            "type": "heatmap"
           }
          ],
          "heatmapgl": [
           {
            "colorbar": {
             "outlinewidth": 0,
             "ticks": ""
            },
            "colorscale": [
             [
              0,
              "#0d0887"
             ],
             [
              0.1111111111111111,
              "#46039f"
             ],
             [
              0.2222222222222222,
              "#7201a8"
             ],
             [
              0.3333333333333333,
              "#9c179e"
             ],
             [
              0.4444444444444444,
              "#bd3786"
             ],
             [
              0.5555555555555556,
              "#d8576b"
             ],
             [
              0.6666666666666666,
              "#ed7953"
             ],
             [
              0.7777777777777778,
              "#fb9f3a"
             ],
             [
              0.8888888888888888,
              "#fdca26"
             ],
             [
              1,
              "#f0f921"
             ]
            ],
            "type": "heatmapgl"
           }
          ],
          "histogram": [
           {
            "marker": {
             "colorbar": {
              "outlinewidth": 0,
              "ticks": ""
             }
            },
            "type": "histogram"
           }
          ],
          "histogram2d": [
           {
            "colorbar": {
             "outlinewidth": 0,
             "ticks": ""
            },
            "colorscale": [
             [
              0,
              "#0d0887"
             ],
             [
              0.1111111111111111,
              "#46039f"
             ],
             [
              0.2222222222222222,
              "#7201a8"
             ],
             [
              0.3333333333333333,
              "#9c179e"
             ],
             [
              0.4444444444444444,
              "#bd3786"
             ],
             [
              0.5555555555555556,
              "#d8576b"
             ],
             [
              0.6666666666666666,
              "#ed7953"
             ],
             [
              0.7777777777777778,
              "#fb9f3a"
             ],
             [
              0.8888888888888888,
              "#fdca26"
             ],
             [
              1,
              "#f0f921"
             ]
            ],
            "type": "histogram2d"
           }
          ],
          "histogram2dcontour": [
           {
            "colorbar": {
             "outlinewidth": 0,
             "ticks": ""
            },
            "colorscale": [
             [
              0,
              "#0d0887"
             ],
             [
              0.1111111111111111,
              "#46039f"
             ],
             [
              0.2222222222222222,
              "#7201a8"
             ],
             [
              0.3333333333333333,
              "#9c179e"
             ],
             [
              0.4444444444444444,
              "#bd3786"
             ],
             [
              0.5555555555555556,
              "#d8576b"
             ],
             [
              0.6666666666666666,
              "#ed7953"
             ],
             [
              0.7777777777777778,
              "#fb9f3a"
             ],
             [
              0.8888888888888888,
              "#fdca26"
             ],
             [
              1,
              "#f0f921"
             ]
            ],
            "type": "histogram2dcontour"
           }
          ],
          "mesh3d": [
           {
            "colorbar": {
             "outlinewidth": 0,
             "ticks": ""
            },
            "type": "mesh3d"
           }
          ],
          "parcoords": [
           {
            "line": {
             "colorbar": {
              "outlinewidth": 0,
              "ticks": ""
             }
            },
            "type": "parcoords"
           }
          ],
          "pie": [
           {
            "automargin": true,
            "type": "pie"
           }
          ],
          "scatter": [
           {
            "marker": {
             "colorbar": {
              "outlinewidth": 0,
              "ticks": ""
             }
            },
            "type": "scatter"
           }
          ],
          "scatter3d": [
           {
            "line": {
             "colorbar": {
              "outlinewidth": 0,
              "ticks": ""
             }
            },
            "marker": {
             "colorbar": {
              "outlinewidth": 0,
              "ticks": ""
             }
            },
            "type": "scatter3d"
           }
          ],
          "scattercarpet": [
           {
            "marker": {
             "colorbar": {
              "outlinewidth": 0,
              "ticks": ""
             }
            },
            "type": "scattercarpet"
           }
          ],
          "scattergeo": [
           {
            "marker": {
             "colorbar": {
              "outlinewidth": 0,
              "ticks": ""
             }
            },
            "type": "scattergeo"
           }
          ],
          "scattergl": [
           {
            "marker": {
             "colorbar": {
              "outlinewidth": 0,
              "ticks": ""
             }
            },
            "type": "scattergl"
           }
          ],
          "scattermapbox": [
           {
            "marker": {
             "colorbar": {
              "outlinewidth": 0,
              "ticks": ""
             }
            },
            "type": "scattermapbox"
           }
          ],
          "scatterpolar": [
           {
            "marker": {
             "colorbar": {
              "outlinewidth": 0,
              "ticks": ""
             }
            },
            "type": "scatterpolar"
           }
          ],
          "scatterpolargl": [
           {
            "marker": {
             "colorbar": {
              "outlinewidth": 0,
              "ticks": ""
             }
            },
            "type": "scatterpolargl"
           }
          ],
          "scatterternary": [
           {
            "marker": {
             "colorbar": {
              "outlinewidth": 0,
              "ticks": ""
             }
            },
            "type": "scatterternary"
           }
          ],
          "surface": [
           {
            "colorbar": {
             "outlinewidth": 0,
             "ticks": ""
            },
            "colorscale": [
             [
              0,
              "#0d0887"
             ],
             [
              0.1111111111111111,
              "#46039f"
             ],
             [
              0.2222222222222222,
              "#7201a8"
             ],
             [
              0.3333333333333333,
              "#9c179e"
             ],
             [
              0.4444444444444444,
              "#bd3786"
             ],
             [
              0.5555555555555556,
              "#d8576b"
             ],
             [
              0.6666666666666666,
              "#ed7953"
             ],
             [
              0.7777777777777778,
              "#fb9f3a"
             ],
             [
              0.8888888888888888,
              "#fdca26"
             ],
             [
              1,
              "#f0f921"
             ]
            ],
            "type": "surface"
           }
          ],
          "table": [
           {
            "cells": {
             "fill": {
              "color": "#EBF0F8"
             },
             "line": {
              "color": "white"
             }
            },
            "header": {
             "fill": {
              "color": "#C8D4E3"
             },
             "line": {
              "color": "white"
             }
            },
            "type": "table"
           }
          ]
         },
         "layout": {
          "annotationdefaults": {
           "arrowcolor": "#2a3f5f",
           "arrowhead": 0,
           "arrowwidth": 1
          },
          "autotypenumbers": "strict",
          "coloraxis": {
           "colorbar": {
            "outlinewidth": 0,
            "ticks": ""
           }
          },
          "colorscale": {
           "diverging": [
            [
             0,
             "#8e0152"
            ],
            [
             0.1,
             "#c51b7d"
            ],
            [
             0.2,
             "#de77ae"
            ],
            [
             0.3,
             "#f1b6da"
            ],
            [
             0.4,
             "#fde0ef"
            ],
            [
             0.5,
             "#f7f7f7"
            ],
            [
             0.6,
             "#e6f5d0"
            ],
            [
             0.7,
             "#b8e186"
            ],
            [
             0.8,
             "#7fbc41"
            ],
            [
             0.9,
             "#4d9221"
            ],
            [
             1,
             "#276419"
            ]
           ],
           "sequential": [
            [
             0,
             "#0d0887"
            ],
            [
             0.1111111111111111,
             "#46039f"
            ],
            [
             0.2222222222222222,
             "#7201a8"
            ],
            [
             0.3333333333333333,
             "#9c179e"
            ],
            [
             0.4444444444444444,
             "#bd3786"
            ],
            [
             0.5555555555555556,
             "#d8576b"
            ],
            [
             0.6666666666666666,
             "#ed7953"
            ],
            [
             0.7777777777777778,
             "#fb9f3a"
            ],
            [
             0.8888888888888888,
             "#fdca26"
            ],
            [
             1,
             "#f0f921"
            ]
           ],
           "sequentialminus": [
            [
             0,
             "#0d0887"
            ],
            [
             0.1111111111111111,
             "#46039f"
            ],
            [
             0.2222222222222222,
             "#7201a8"
            ],
            [
             0.3333333333333333,
             "#9c179e"
            ],
            [
             0.4444444444444444,
             "#bd3786"
            ],
            [
             0.5555555555555556,
             "#d8576b"
            ],
            [
             0.6666666666666666,
             "#ed7953"
            ],
            [
             0.7777777777777778,
             "#fb9f3a"
            ],
            [
             0.8888888888888888,
             "#fdca26"
            ],
            [
             1,
             "#f0f921"
            ]
           ]
          },
          "colorway": [
           "#636efa",
           "#EF553B",
           "#00cc96",
           "#ab63fa",
           "#FFA15A",
           "#19d3f3",
           "#FF6692",
           "#B6E880",
           "#FF97FF",
           "#FECB52"
          ],
          "font": {
           "color": "#2a3f5f"
          },
          "geo": {
           "bgcolor": "white",
           "lakecolor": "white",
           "landcolor": "#E5ECF6",
           "showlakes": true,
           "showland": true,
           "subunitcolor": "white"
          },
          "hoverlabel": {
           "align": "left"
          },
          "hovermode": "closest",
          "mapbox": {
           "style": "light"
          },
          "paper_bgcolor": "white",
          "plot_bgcolor": "#E5ECF6",
          "polar": {
           "angularaxis": {
            "gridcolor": "white",
            "linecolor": "white",
            "ticks": ""
           },
           "bgcolor": "#E5ECF6",
           "radialaxis": {
            "gridcolor": "white",
            "linecolor": "white",
            "ticks": ""
           }
          },
          "scene": {
           "xaxis": {
            "backgroundcolor": "#E5ECF6",
            "gridcolor": "white",
            "gridwidth": 2,
            "linecolor": "white",
            "showbackground": true,
            "ticks": "",
            "zerolinecolor": "white"
           },
           "yaxis": {
            "backgroundcolor": "#E5ECF6",
            "gridcolor": "white",
            "gridwidth": 2,
            "linecolor": "white",
            "showbackground": true,
            "ticks": "",
            "zerolinecolor": "white"
           },
           "zaxis": {
            "backgroundcolor": "#E5ECF6",
            "gridcolor": "white",
            "gridwidth": 2,
            "linecolor": "white",
            "showbackground": true,
            "ticks": "",
            "zerolinecolor": "white"
           }
          },
          "shapedefaults": {
           "line": {
            "color": "#2a3f5f"
           }
          },
          "ternary": {
           "aaxis": {
            "gridcolor": "white",
            "linecolor": "white",
            "ticks": ""
           },
           "baxis": {
            "gridcolor": "white",
            "linecolor": "white",
            "ticks": ""
           },
           "bgcolor": "#E5ECF6",
           "caxis": {
            "gridcolor": "white",
            "linecolor": "white",
            "ticks": ""
           }
          },
          "title": {
           "x": 0.05
          },
          "xaxis": {
           "automargin": true,
           "gridcolor": "white",
           "linecolor": "white",
           "ticks": "",
           "title": {
            "standoff": 15
           },
           "zerolinecolor": "white",
           "zerolinewidth": 2
          },
          "yaxis": {
           "automargin": true,
           "gridcolor": "white",
           "linecolor": "white",
           "ticks": "",
           "title": {
            "standoff": 15
           },
           "zerolinecolor": "white",
           "zerolinewidth": 2
          }
         }
        },
        "title": {
         "text": "Área total(km²) do bioma amazônia nesses 3 estados ao longo dos anos"
        },
        "xaxis": {
         "anchor": "y",
         "domain": [
          0,
          1
         ],
         "title": {
          "text": "ano"
         }
        },
        "yaxis": {
         "anchor": "x",
         "domain": [
          0,
          1
         ],
         "title": {
          "text": "value"
         }
        }
       }
      },
      "text/html": [
       "<div>                            <div id=\"de0f91fd-c2cd-4384-96b0-2a8988619cec\" class=\"plotly-graph-div\" style=\"height:525px; width:100%;\"></div>            <script type=\"text/javascript\">                require([\"plotly\"], function(Plotly) {                    window.PLOTLYENV=window.PLOTLYENV || {};                                    if (document.getElementById(\"de0f91fd-c2cd-4384-96b0-2a8988619cec\")) {                    Plotly.newPlot(                        \"de0f91fd-c2cd-4384-96b0-2a8988619cec\",                        [{\"hovertemplate\": \"variable=MA<br>ano=%{x}<br>value=%{y}<extra></extra>\", \"legendgroup\": \"MA\", \"line\": {\"color\": \"#636efa\", \"dash\": \"solid\", \"shape\": \"spline\"}, \"mode\": \"lines\", \"name\": \"MA\", \"orientation\": \"v\", \"showlegend\": true, \"type\": \"scatter\", \"x\": [1994, 1995, 1996, 1997, 1998, 1999, 2000, 2001, 2002, 2003, 2004, 2005, 2006, 2007, 2008, 2009, 2010, 2011, 2012, 2013, 2014, 2015, 2016, 2017, 2018], \"xaxis\": \"x\", \"y\": [75481.156639438, 74272.545091972, 72223.250739591, 72837.223173432, 71104.771290598, 68586.056166622, 65087.99285979, 65731.39712503, 65379.657086414, 62914.466051968, 61355.025975691, 61920.524608568, 60709.28067471, 58901.440311805, 58907.16342385, 57347.496967794, 58205.461652816, 57712.762225607, 56139.058054401, 56741.688102609, 56365.076956953, 56956.678104364, 54174.329091319, 56680.167568963, 54898.648794754], \"yaxis\": \"y\"}, {\"hovertemplate\": \"variable=MT<br>ano=%{x}<br>value=%{y}<extra></extra>\", \"legendgroup\": \"MT\", \"line\": {\"color\": \"#EF553B\", \"dash\": \"solid\", \"shape\": \"spline\"}, \"mode\": \"lines\", \"name\": \"MT\", \"orientation\": \"v\", \"showlegend\": true, \"type\": \"scatter\", \"x\": [1994, 1995, 1996, 1997, 1998, 1999, 2000, 2001, 2002, 2003, 2004, 2005, 2006, 2007, 2008, 2009, 2010, 2011, 2012, 2013, 2014, 2015, 2016, 2017, 2018], \"xaxis\": \"x\", \"y\": [433299.15018599, 429766.345560753, 422290.605461844, 412144.718601211, 409861.953011042, 401314.642965446, 397230.617118059, 389678.363365085, 385123.217209312, 374265.385681376, 364137.695732836, 355662.295082364, 350776.466734042, 350059.978892295, 343907.525619509, 345505.567409279, 343269.200507589, 343793.13318322, 343783.114982904, 344120.580868258, 344155.952612842, 339796.44513938, 338865.401581263, 337551.938191758, 334544.886479528], \"yaxis\": \"y\"}, {\"hovertemplate\": \"variable=RO<br>ano=%{x}<br>value=%{y}<extra></extra>\", \"legendgroup\": \"RO\", \"line\": {\"color\": \"#00cc96\", \"dash\": \"solid\", \"shape\": \"spline\"}, \"mode\": \"lines\", \"name\": \"RO\", \"orientation\": \"v\", \"showlegend\": true, \"type\": \"scatter\", \"x\": [1994, 1995, 1996, 1997, 1998, 1999, 2000, 2001, 2002, 2003, 2004, 2005, 2006, 2007, 2008, 2009, 2010, 2011, 2012, 2013, 2014, 2015, 2016, 2017, 2018], \"xaxis\": \"x\", \"y\": [195376.592715585, 191833.580550159, 188182.214707703, 186252.888139455, 183489.029383246, 182315.005037331, 180206.258329491, 177548.946157604, 174195.24388014, 168585.336075232, 166187.797706674, 162946.36207858, 160447.412213489, 158962.926844527, 157946.46678113, 157971.08440972, 157787.996468168, 156475.951878858, 155409.081134102, 155490.223074844, 154600.125679832, 153098.733690974, 151710.759124082, 149978.147050605, 148281.747341551], \"yaxis\": \"y\"}],                        {\"legend\": {\"title\": {\"text\": \"variable\"}, \"tracegroupgap\": 0}, \"template\": {\"data\": {\"bar\": [{\"error_x\": {\"color\": \"#2a3f5f\"}, \"error_y\": {\"color\": \"#2a3f5f\"}, \"marker\": {\"line\": {\"color\": \"#E5ECF6\", \"width\": 0.5}}, \"type\": \"bar\"}], \"barpolar\": [{\"marker\": {\"line\": {\"color\": \"#E5ECF6\", \"width\": 0.5}}, \"type\": \"barpolar\"}], \"carpet\": [{\"aaxis\": {\"endlinecolor\": \"#2a3f5f\", \"gridcolor\": \"white\", \"linecolor\": \"white\", \"minorgridcolor\": \"white\", \"startlinecolor\": \"#2a3f5f\"}, \"baxis\": {\"endlinecolor\": \"#2a3f5f\", \"gridcolor\": \"white\", \"linecolor\": \"white\", \"minorgridcolor\": \"white\", \"startlinecolor\": \"#2a3f5f\"}, \"type\": \"carpet\"}], \"choropleth\": [{\"colorbar\": {\"outlinewidth\": 0, \"ticks\": \"\"}, \"type\": \"choropleth\"}], \"contour\": [{\"colorbar\": {\"outlinewidth\": 0, \"ticks\": \"\"}, \"colorscale\": [[0.0, \"#0d0887\"], [0.1111111111111111, \"#46039f\"], [0.2222222222222222, \"#7201a8\"], [0.3333333333333333, \"#9c179e\"], [0.4444444444444444, \"#bd3786\"], [0.5555555555555556, \"#d8576b\"], [0.6666666666666666, \"#ed7953\"], [0.7777777777777778, \"#fb9f3a\"], [0.8888888888888888, \"#fdca26\"], [1.0, \"#f0f921\"]], \"type\": \"contour\"}], \"contourcarpet\": [{\"colorbar\": {\"outlinewidth\": 0, \"ticks\": \"\"}, \"type\": \"contourcarpet\"}], \"heatmap\": [{\"colorbar\": {\"outlinewidth\": 0, \"ticks\": \"\"}, \"colorscale\": [[0.0, \"#0d0887\"], [0.1111111111111111, \"#46039f\"], [0.2222222222222222, \"#7201a8\"], [0.3333333333333333, \"#9c179e\"], [0.4444444444444444, \"#bd3786\"], [0.5555555555555556, \"#d8576b\"], [0.6666666666666666, \"#ed7953\"], [0.7777777777777778, \"#fb9f3a\"], [0.8888888888888888, \"#fdca26\"], [1.0, \"#f0f921\"]], \"type\": \"heatmap\"}], \"heatmapgl\": [{\"colorbar\": {\"outlinewidth\": 0, \"ticks\": \"\"}, \"colorscale\": [[0.0, \"#0d0887\"], [0.1111111111111111, \"#46039f\"], [0.2222222222222222, \"#7201a8\"], [0.3333333333333333, \"#9c179e\"], [0.4444444444444444, \"#bd3786\"], [0.5555555555555556, \"#d8576b\"], [0.6666666666666666, \"#ed7953\"], [0.7777777777777778, \"#fb9f3a\"], [0.8888888888888888, \"#fdca26\"], [1.0, \"#f0f921\"]], \"type\": \"heatmapgl\"}], \"histogram\": [{\"marker\": {\"colorbar\": {\"outlinewidth\": 0, \"ticks\": \"\"}}, \"type\": \"histogram\"}], \"histogram2d\": [{\"colorbar\": {\"outlinewidth\": 0, \"ticks\": \"\"}, \"colorscale\": [[0.0, \"#0d0887\"], [0.1111111111111111, \"#46039f\"], [0.2222222222222222, \"#7201a8\"], [0.3333333333333333, \"#9c179e\"], [0.4444444444444444, \"#bd3786\"], [0.5555555555555556, \"#d8576b\"], [0.6666666666666666, \"#ed7953\"], [0.7777777777777778, \"#fb9f3a\"], [0.8888888888888888, \"#fdca26\"], [1.0, \"#f0f921\"]], \"type\": \"histogram2d\"}], \"histogram2dcontour\": [{\"colorbar\": {\"outlinewidth\": 0, \"ticks\": \"\"}, \"colorscale\": [[0.0, \"#0d0887\"], [0.1111111111111111, \"#46039f\"], [0.2222222222222222, \"#7201a8\"], [0.3333333333333333, \"#9c179e\"], [0.4444444444444444, \"#bd3786\"], [0.5555555555555556, \"#d8576b\"], [0.6666666666666666, \"#ed7953\"], [0.7777777777777778, \"#fb9f3a\"], [0.8888888888888888, \"#fdca26\"], [1.0, \"#f0f921\"]], \"type\": \"histogram2dcontour\"}], \"mesh3d\": [{\"colorbar\": {\"outlinewidth\": 0, \"ticks\": \"\"}, \"type\": \"mesh3d\"}], \"parcoords\": [{\"line\": {\"colorbar\": {\"outlinewidth\": 0, \"ticks\": \"\"}}, \"type\": \"parcoords\"}], \"pie\": [{\"automargin\": true, \"type\": \"pie\"}], \"scatter\": [{\"marker\": {\"colorbar\": {\"outlinewidth\": 0, \"ticks\": \"\"}}, \"type\": \"scatter\"}], \"scatter3d\": [{\"line\": {\"colorbar\": {\"outlinewidth\": 0, \"ticks\": \"\"}}, \"marker\": {\"colorbar\": {\"outlinewidth\": 0, \"ticks\": \"\"}}, \"type\": \"scatter3d\"}], \"scattercarpet\": [{\"marker\": {\"colorbar\": {\"outlinewidth\": 0, \"ticks\": \"\"}}, \"type\": \"scattercarpet\"}], \"scattergeo\": [{\"marker\": {\"colorbar\": {\"outlinewidth\": 0, \"ticks\": \"\"}}, \"type\": \"scattergeo\"}], \"scattergl\": [{\"marker\": {\"colorbar\": {\"outlinewidth\": 0, \"ticks\": \"\"}}, \"type\": \"scattergl\"}], \"scattermapbox\": [{\"marker\": {\"colorbar\": {\"outlinewidth\": 0, \"ticks\": \"\"}}, \"type\": \"scattermapbox\"}], \"scatterpolar\": [{\"marker\": {\"colorbar\": {\"outlinewidth\": 0, \"ticks\": \"\"}}, \"type\": \"scatterpolar\"}], \"scatterpolargl\": [{\"marker\": {\"colorbar\": {\"outlinewidth\": 0, \"ticks\": \"\"}}, \"type\": \"scatterpolargl\"}], \"scatterternary\": [{\"marker\": {\"colorbar\": {\"outlinewidth\": 0, \"ticks\": \"\"}}, \"type\": \"scatterternary\"}], \"surface\": [{\"colorbar\": {\"outlinewidth\": 0, \"ticks\": \"\"}, \"colorscale\": [[0.0, \"#0d0887\"], [0.1111111111111111, \"#46039f\"], [0.2222222222222222, \"#7201a8\"], [0.3333333333333333, \"#9c179e\"], [0.4444444444444444, \"#bd3786\"], [0.5555555555555556, \"#d8576b\"], [0.6666666666666666, \"#ed7953\"], [0.7777777777777778, \"#fb9f3a\"], [0.8888888888888888, \"#fdca26\"], [1.0, \"#f0f921\"]], \"type\": \"surface\"}], \"table\": [{\"cells\": {\"fill\": {\"color\": \"#EBF0F8\"}, \"line\": {\"color\": \"white\"}}, \"header\": {\"fill\": {\"color\": \"#C8D4E3\"}, \"line\": {\"color\": \"white\"}}, \"type\": \"table\"}]}, \"layout\": {\"annotationdefaults\": {\"arrowcolor\": \"#2a3f5f\", \"arrowhead\": 0, \"arrowwidth\": 1}, \"autotypenumbers\": \"strict\", \"coloraxis\": {\"colorbar\": {\"outlinewidth\": 0, \"ticks\": \"\"}}, \"colorscale\": {\"diverging\": [[0, \"#8e0152\"], [0.1, \"#c51b7d\"], [0.2, \"#de77ae\"], [0.3, \"#f1b6da\"], [0.4, \"#fde0ef\"], [0.5, \"#f7f7f7\"], [0.6, \"#e6f5d0\"], [0.7, \"#b8e186\"], [0.8, \"#7fbc41\"], [0.9, \"#4d9221\"], [1, \"#276419\"]], \"sequential\": [[0.0, \"#0d0887\"], [0.1111111111111111, \"#46039f\"], [0.2222222222222222, \"#7201a8\"], [0.3333333333333333, \"#9c179e\"], [0.4444444444444444, \"#bd3786\"], [0.5555555555555556, \"#d8576b\"], [0.6666666666666666, \"#ed7953\"], [0.7777777777777778, \"#fb9f3a\"], [0.8888888888888888, \"#fdca26\"], [1.0, \"#f0f921\"]], \"sequentialminus\": [[0.0, \"#0d0887\"], [0.1111111111111111, \"#46039f\"], [0.2222222222222222, \"#7201a8\"], [0.3333333333333333, \"#9c179e\"], [0.4444444444444444, \"#bd3786\"], [0.5555555555555556, \"#d8576b\"], [0.6666666666666666, \"#ed7953\"], [0.7777777777777778, \"#fb9f3a\"], [0.8888888888888888, \"#fdca26\"], [1.0, \"#f0f921\"]]}, \"colorway\": [\"#636efa\", \"#EF553B\", \"#00cc96\", \"#ab63fa\", \"#FFA15A\", \"#19d3f3\", \"#FF6692\", \"#B6E880\", \"#FF97FF\", \"#FECB52\"], \"font\": {\"color\": \"#2a3f5f\"}, \"geo\": {\"bgcolor\": \"white\", \"lakecolor\": \"white\", \"landcolor\": \"#E5ECF6\", \"showlakes\": true, \"showland\": true, \"subunitcolor\": \"white\"}, \"hoverlabel\": {\"align\": \"left\"}, \"hovermode\": \"closest\", \"mapbox\": {\"style\": \"light\"}, \"paper_bgcolor\": \"white\", \"plot_bgcolor\": \"#E5ECF6\", \"polar\": {\"angularaxis\": {\"gridcolor\": \"white\", \"linecolor\": \"white\", \"ticks\": \"\"}, \"bgcolor\": \"#E5ECF6\", \"radialaxis\": {\"gridcolor\": \"white\", \"linecolor\": \"white\", \"ticks\": \"\"}}, \"scene\": {\"xaxis\": {\"backgroundcolor\": \"#E5ECF6\", \"gridcolor\": \"white\", \"gridwidth\": 2, \"linecolor\": \"white\", \"showbackground\": true, \"ticks\": \"\", \"zerolinecolor\": \"white\"}, \"yaxis\": {\"backgroundcolor\": \"#E5ECF6\", \"gridcolor\": \"white\", \"gridwidth\": 2, \"linecolor\": \"white\", \"showbackground\": true, \"ticks\": \"\", \"zerolinecolor\": \"white\"}, \"zaxis\": {\"backgroundcolor\": \"#E5ECF6\", \"gridcolor\": \"white\", \"gridwidth\": 2, \"linecolor\": \"white\", \"showbackground\": true, \"ticks\": \"\", \"zerolinecolor\": \"white\"}}, \"shapedefaults\": {\"line\": {\"color\": \"#2a3f5f\"}}, \"ternary\": {\"aaxis\": {\"gridcolor\": \"white\", \"linecolor\": \"white\", \"ticks\": \"\"}, \"baxis\": {\"gridcolor\": \"white\", \"linecolor\": \"white\", \"ticks\": \"\"}, \"bgcolor\": \"#E5ECF6\", \"caxis\": {\"gridcolor\": \"white\", \"linecolor\": \"white\", \"ticks\": \"\"}}, \"title\": {\"x\": 0.05}, \"xaxis\": {\"automargin\": true, \"gridcolor\": \"white\", \"linecolor\": \"white\", \"ticks\": \"\", \"title\": {\"standoff\": 15}, \"zerolinecolor\": \"white\", \"zerolinewidth\": 2}, \"yaxis\": {\"automargin\": true, \"gridcolor\": \"white\", \"linecolor\": \"white\", \"ticks\": \"\", \"title\": {\"standoff\": 15}, \"zerolinecolor\": \"white\", \"zerolinewidth\": 2}}}, \"title\": {\"text\": \"\\u00c1rea total(km\\u00b2) do bioma amaz\\u00f4nia nesses 3 estados ao longo dos anos\"}, \"xaxis\": {\"anchor\": \"y\", \"domain\": [0.0, 1.0], \"title\": {\"text\": \"ano\"}}, \"yaxis\": {\"anchor\": \"x\", \"domain\": [0.0, 1.0], \"title\": {\"text\": \"value\"}}},                        {\"responsive\": true}                    ).then(function(){\n",
       "                            \n",
       "var gd = document.getElementById('de0f91fd-c2cd-4384-96b0-2a8988619cec');\n",
       "var x = new MutationObserver(function (mutations, observer) {{\n",
       "        var display = window.getComputedStyle(gd).display;\n",
       "        if (!display || display === 'none') {{\n",
       "            console.log([gd, 'removed!']);\n",
       "            Plotly.purge(gd);\n",
       "            observer.disconnect();\n",
       "        }}\n",
       "}});\n",
       "\n",
       "// Listen for the removal of the full notebook cells\n",
       "var notebookContainer = gd.closest('#notebook-container');\n",
       "if (notebookContainer) {{\n",
       "    x.observe(notebookContainer, {childList: true});\n",
       "}}\n",
       "\n",
       "// Listen for the clearing of the current output cell\n",
       "var outputEl = gd.closest('.output');\n",
       "if (outputEl) {{\n",
       "    x.observe(outputEl, {childList: true});\n",
       "}}\n",
       "\n",
       "                        })                };                });            </script>        </div>"
      ]
     },
     "metadata": {},
     "output_type": "display_data"
    }
   ],
   "source": [
    "fig = px.line(newdf, x='ano', y=newdf.columns,\n",
    "             title='Área total(km²) do bioma amazônia nesses 3 estados ao longo dos anos',\n",
    "            line_shape = 'spline')\n",
    "\n",
    "fig.show()"
   ]
  },
  {
   "cell_type": "code",
   "execution_count": null,
   "id": "73e58742",
   "metadata": {},
   "outputs": [],
   "source": []
  }
 ],
 "metadata": {
  "kernelspec": {
   "display_name": "Python 3",
   "language": "python",
   "name": "python3"
  },
  "language_info": {
   "codemirror_mode": {
    "name": "ipython",
    "version": 3
   },
   "file_extension": ".py",
   "mimetype": "text/x-python",
   "name": "python",
   "nbconvert_exporter": "python",
   "pygments_lexer": "ipython3",
   "version": "3.9.0"
  }
 },
 "nbformat": 4,
 "nbformat_minor": 5
}
